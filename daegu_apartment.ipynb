{
  "nbformat": 4,
  "nbformat_minor": 0,
  "metadata": {
    "colab": {
      "provenance": [],
      "collapsed_sections": []
    },
    "kernelspec": {
      "name": "python3",
      "display_name": "Python 3"
    },
    "language_info": {
      "name": "python"
    }
  },
  "cells": [
    {
      "cell_type": "code",
      "source": [
        "!pip install category_encoders"
      ],
      "metadata": {
        "colab": {
          "base_uri": "https://localhost:8080/"
        },
        "id": "KG-LhJ_xubU8",
        "outputId": "b04d4ba9-501b-4285-8b54-c7fab6aab51c"
      },
      "execution_count": 1,
      "outputs": [
        {
          "output_type": "stream",
          "name": "stdout",
          "text": [
            "Looking in indexes: https://pypi.org/simple, https://us-python.pkg.dev/colab-wheels/public/simple/\n",
            "Requirement already satisfied: category_encoders in /usr/local/lib/python3.7/dist-packages (2.5.1.post0)\n",
            "Requirement already satisfied: pandas>=1.0.5 in /usr/local/lib/python3.7/dist-packages (from category_encoders) (1.3.5)\n",
            "Requirement already satisfied: patsy>=0.5.1 in /usr/local/lib/python3.7/dist-packages (from category_encoders) (0.5.3)\n",
            "Requirement already satisfied: statsmodels>=0.9.0 in /usr/local/lib/python3.7/dist-packages (from category_encoders) (0.12.2)\n",
            "Requirement already satisfied: scikit-learn>=0.20.0 in /usr/local/lib/python3.7/dist-packages (from category_encoders) (1.0.2)\n",
            "Requirement already satisfied: scipy>=1.0.0 in /usr/local/lib/python3.7/dist-packages (from category_encoders) (1.7.3)\n",
            "Requirement already satisfied: numpy>=1.14.0 in /usr/local/lib/python3.7/dist-packages (from category_encoders) (1.21.6)\n",
            "Requirement already satisfied: python-dateutil>=2.7.3 in /usr/local/lib/python3.7/dist-packages (from pandas>=1.0.5->category_encoders) (2.8.2)\n",
            "Requirement already satisfied: pytz>=2017.3 in /usr/local/lib/python3.7/dist-packages (from pandas>=1.0.5->category_encoders) (2022.6)\n",
            "Requirement already satisfied: six in /usr/local/lib/python3.7/dist-packages (from patsy>=0.5.1->category_encoders) (1.15.0)\n",
            "Requirement already satisfied: joblib>=0.11 in /usr/local/lib/python3.7/dist-packages (from scikit-learn>=0.20.0->category_encoders) (1.2.0)\n",
            "Requirement already satisfied: threadpoolctl>=2.0.0 in /usr/local/lib/python3.7/dist-packages (from scikit-learn>=0.20.0->category_encoders) (3.1.0)\n"
          ]
        }
      ]
    },
    {
      "cell_type": "code",
      "source": [
        "import numpy as np\n",
        "import pandas as pd\n",
        "\n",
        "import seaborn as sns\n",
        "import matplotlib.pyplot as plt\n",
        "\n",
        "import warnings\n",
        "warnings.filterwarnings(\"ignore\")"
      ],
      "metadata": {
        "id": "t1YIWRuhsElb"
      },
      "execution_count": 2,
      "outputs": []
    },
    {
      "cell_type": "markdown",
      "source": [
        "> # Business Problem Understanding."
      ],
      "metadata": {
        "id": "7b-irkICyzGG"
      }
    },
    {
      "cell_type": "markdown",
      "source": [
        "**Context**\n",
        "\n",
        "Hunian yang nyaman merupakan tempat yang ingin dimiliki setiap orang sebagai tempat tinggal. Semakin kesini, kebutuhan akan tempat tinggal seperti rumah maupun apartement semakin meningkat sehingga permintaan semakin tinggi. Kriteria tempat tinggal yang dicari setiap orang tentu berbeda sesuai dengan spesifikasi dan budget yang mereka punya.\n",
        "\n",
        "Pengetahuan tentang harga tempat tinggal jelas sangat diperlukan. Kita tentu ingin mengetahui harga yang pantas untuk sebuah hunian apartement, supaya kita bisa menyesuaikan budget yang kita punya dengan harga apartement yang ingin kita beli. Dilain sisi, sebagai penjual pun perlu mengetahui harga yang cocok supaya tida terlalu murah dan tidak terlalu mahal."
      ],
      "metadata": {
        "id": "70LFA8KCzANz"
      }
    },
    {
      "cell_type": "markdown",
      "source": [
        "**Problem Statement**\n",
        "\n",
        "Sebagai calon pembeli apartement, kita tentu ingin mendapatkan harga yang sesuai dengan budget yang kita punya. Dilain sisi sebagai penjual apartement, kita ingin harga yang kita berikan tidak terlalu mahal dan juga tidak terlalu murah."
      ],
      "metadata": {
        "id": "lSc2Y2fQzEF2"
      }
    },
    {
      "cell_type": "markdown",
      "source": [
        "**Goals**\n",
        "\n",
        "Berdasarkan permasalahan tersebut, kita memerlukan sebuah pendekatan analitis untuk menentukan harga yang cocok untuk sebuah apartement. Pendekatan yang bisa dilakukan adalah dengan membuat model machine learning supaya kita bisa menetukan harga apartement yang sesuai dengan data yang ada."
      ],
      "metadata": {
        "id": "sNUaNLUuzITK"
      }
    },
    {
      "cell_type": "markdown",
      "source": [
        "**Analytic Aproach**\n",
        "\n",
        "Kita akan menganalisis data untuk menemukan pengetahuan yang lebih mendalam mengenai data ini. Selanjutnya, kita akan membangun suatu model regresi untuk menentukan perkiraan harga untuk sebuah apartement dengan spesifikasi tertentu."
      ],
      "metadata": {
        "id": "6eDOlwoGzKTS"
      }
    },
    {
      "cell_type": "markdown",
      "source": [
        "**Metrics evaluation**"
      ],
      "metadata": {
        "id": "kQ_q0sxOzNQj"
      }
    },
    {
      "cell_type": "markdown",
      "source": [
        "Evaluation metrics untuk kasus regressi diantaranya adalah MSE, MAE, RMSE. Kita akan memilih evaluation metrics sesuai dengan karakteristik nilai prediksi yang ada."
      ],
      "metadata": {
        "id": "33DIJihzYWVH"
      }
    },
    {
      "cell_type": "markdown",
      "source": [
        "> # Data Understanding."
      ],
      "metadata": {
        "id": "8jAX_t40y4kD"
      }
    },
    {
      "cell_type": "code",
      "execution_count": 3,
      "metadata": {
        "colab": {
          "base_uri": "https://localhost:8080/"
        },
        "id": "aDN3F3umrnTG",
        "outputId": "099d1921-9528-47d5-b02f-f5718ad12370"
      },
      "outputs": [
        {
          "output_type": "stream",
          "name": "stdout",
          "text": [
            "Downloading...\n",
            "From: https://drive.google.com/uc?id=1MPDotXZNmiq6geRi8BkGd-fjttzoyTxW\n",
            "To: /content/data_daegu_apartment.csv\n",
            "\r  0% 0.00/283k [00:00<?, ?B/s]\r100% 283k/283k [00:00<00:00, 69.7MB/s]\n"
          ]
        }
      ],
      "source": [
        "!gdown 1MPDotXZNmiq6geRi8BkGd-fjttzoyTxW"
      ]
    },
    {
      "cell_type": "code",
      "source": [
        "df = pd.read_csv(\"data_daegu_apartment.csv\")\n",
        "df.head()"
      ],
      "metadata": {
        "colab": {
          "base_uri": "https://localhost:8080/",
          "height": 270
        },
        "id": "G1GjnnaPr410",
        "outputId": "e770add4-1283-4366-a992-d0945e9ad2c3"
      },
      "execution_count": 4,
      "outputs": [
        {
          "output_type": "execute_result",
          "data": {
            "text/plain": [
              "  HallwayType TimeToSubway          SubwayStation  N_FacilitiesNearBy(ETC)  \\\n",
              "0    terraced       0-5min  Kyungbuk_uni_hospital                      0.0   \n",
              "1    terraced  10min~15min  Kyungbuk_uni_hospital                      1.0   \n",
              "2       mixed  15min~20min       Chil-sung-market                      1.0   \n",
              "3       mixed   5min~10min                Bangoge                      5.0   \n",
              "4    terraced       0-5min                Sin-nam                      0.0   \n",
              "\n",
              "   N_FacilitiesNearBy(PublicOffice)  N_SchoolNearBy(University)  \\\n",
              "0                               3.0                         2.0   \n",
              "1                               5.0                         1.0   \n",
              "2                               7.0                         3.0   \n",
              "3                               5.0                         4.0   \n",
              "4                               1.0                         2.0   \n",
              "\n",
              "   N_Parkinglot(Basement)  YearBuilt  N_FacilitiesInApt  Size(sqf)  SalePrice  \n",
              "0                  1270.0       2007                 10       1387     346017  \n",
              "1                     0.0       1986                  4        914     150442  \n",
              "2                    56.0       1997                  5        558      61946  \n",
              "3                   798.0       2005                  7        914     165486  \n",
              "4                   536.0       2006                  5       1743     311504  "
            ],
            "text/html": [
              "\n",
              "  <div id=\"df-7ceabe0c-90c5-4958-90e3-e2c931f4bdfa\">\n",
              "    <div class=\"colab-df-container\">\n",
              "      <div>\n",
              "<style scoped>\n",
              "    .dataframe tbody tr th:only-of-type {\n",
              "        vertical-align: middle;\n",
              "    }\n",
              "\n",
              "    .dataframe tbody tr th {\n",
              "        vertical-align: top;\n",
              "    }\n",
              "\n",
              "    .dataframe thead th {\n",
              "        text-align: right;\n",
              "    }\n",
              "</style>\n",
              "<table border=\"1\" class=\"dataframe\">\n",
              "  <thead>\n",
              "    <tr style=\"text-align: right;\">\n",
              "      <th></th>\n",
              "      <th>HallwayType</th>\n",
              "      <th>TimeToSubway</th>\n",
              "      <th>SubwayStation</th>\n",
              "      <th>N_FacilitiesNearBy(ETC)</th>\n",
              "      <th>N_FacilitiesNearBy(PublicOffice)</th>\n",
              "      <th>N_SchoolNearBy(University)</th>\n",
              "      <th>N_Parkinglot(Basement)</th>\n",
              "      <th>YearBuilt</th>\n",
              "      <th>N_FacilitiesInApt</th>\n",
              "      <th>Size(sqf)</th>\n",
              "      <th>SalePrice</th>\n",
              "    </tr>\n",
              "  </thead>\n",
              "  <tbody>\n",
              "    <tr>\n",
              "      <th>0</th>\n",
              "      <td>terraced</td>\n",
              "      <td>0-5min</td>\n",
              "      <td>Kyungbuk_uni_hospital</td>\n",
              "      <td>0.0</td>\n",
              "      <td>3.0</td>\n",
              "      <td>2.0</td>\n",
              "      <td>1270.0</td>\n",
              "      <td>2007</td>\n",
              "      <td>10</td>\n",
              "      <td>1387</td>\n",
              "      <td>346017</td>\n",
              "    </tr>\n",
              "    <tr>\n",
              "      <th>1</th>\n",
              "      <td>terraced</td>\n",
              "      <td>10min~15min</td>\n",
              "      <td>Kyungbuk_uni_hospital</td>\n",
              "      <td>1.0</td>\n",
              "      <td>5.0</td>\n",
              "      <td>1.0</td>\n",
              "      <td>0.0</td>\n",
              "      <td>1986</td>\n",
              "      <td>4</td>\n",
              "      <td>914</td>\n",
              "      <td>150442</td>\n",
              "    </tr>\n",
              "    <tr>\n",
              "      <th>2</th>\n",
              "      <td>mixed</td>\n",
              "      <td>15min~20min</td>\n",
              "      <td>Chil-sung-market</td>\n",
              "      <td>1.0</td>\n",
              "      <td>7.0</td>\n",
              "      <td>3.0</td>\n",
              "      <td>56.0</td>\n",
              "      <td>1997</td>\n",
              "      <td>5</td>\n",
              "      <td>558</td>\n",
              "      <td>61946</td>\n",
              "    </tr>\n",
              "    <tr>\n",
              "      <th>3</th>\n",
              "      <td>mixed</td>\n",
              "      <td>5min~10min</td>\n",
              "      <td>Bangoge</td>\n",
              "      <td>5.0</td>\n",
              "      <td>5.0</td>\n",
              "      <td>4.0</td>\n",
              "      <td>798.0</td>\n",
              "      <td>2005</td>\n",
              "      <td>7</td>\n",
              "      <td>914</td>\n",
              "      <td>165486</td>\n",
              "    </tr>\n",
              "    <tr>\n",
              "      <th>4</th>\n",
              "      <td>terraced</td>\n",
              "      <td>0-5min</td>\n",
              "      <td>Sin-nam</td>\n",
              "      <td>0.0</td>\n",
              "      <td>1.0</td>\n",
              "      <td>2.0</td>\n",
              "      <td>536.0</td>\n",
              "      <td>2006</td>\n",
              "      <td>5</td>\n",
              "      <td>1743</td>\n",
              "      <td>311504</td>\n",
              "    </tr>\n",
              "  </tbody>\n",
              "</table>\n",
              "</div>\n",
              "      <button class=\"colab-df-convert\" onclick=\"convertToInteractive('df-7ceabe0c-90c5-4958-90e3-e2c931f4bdfa')\"\n",
              "              title=\"Convert this dataframe to an interactive table.\"\n",
              "              style=\"display:none;\">\n",
              "        \n",
              "  <svg xmlns=\"http://www.w3.org/2000/svg\" height=\"24px\"viewBox=\"0 0 24 24\"\n",
              "       width=\"24px\">\n",
              "    <path d=\"M0 0h24v24H0V0z\" fill=\"none\"/>\n",
              "    <path d=\"M18.56 5.44l.94 2.06.94-2.06 2.06-.94-2.06-.94-.94-2.06-.94 2.06-2.06.94zm-11 1L8.5 8.5l.94-2.06 2.06-.94-2.06-.94L8.5 2.5l-.94 2.06-2.06.94zm10 10l.94 2.06.94-2.06 2.06-.94-2.06-.94-.94-2.06-.94 2.06-2.06.94z\"/><path d=\"M17.41 7.96l-1.37-1.37c-.4-.4-.92-.59-1.43-.59-.52 0-1.04.2-1.43.59L10.3 9.45l-7.72 7.72c-.78.78-.78 2.05 0 2.83L4 21.41c.39.39.9.59 1.41.59.51 0 1.02-.2 1.41-.59l7.78-7.78 2.81-2.81c.8-.78.8-2.07 0-2.86zM5.41 20L4 18.59l7.72-7.72 1.47 1.35L5.41 20z\"/>\n",
              "  </svg>\n",
              "      </button>\n",
              "      \n",
              "  <style>\n",
              "    .colab-df-container {\n",
              "      display:flex;\n",
              "      flex-wrap:wrap;\n",
              "      gap: 12px;\n",
              "    }\n",
              "\n",
              "    .colab-df-convert {\n",
              "      background-color: #E8F0FE;\n",
              "      border: none;\n",
              "      border-radius: 50%;\n",
              "      cursor: pointer;\n",
              "      display: none;\n",
              "      fill: #1967D2;\n",
              "      height: 32px;\n",
              "      padding: 0 0 0 0;\n",
              "      width: 32px;\n",
              "    }\n",
              "\n",
              "    .colab-df-convert:hover {\n",
              "      background-color: #E2EBFA;\n",
              "      box-shadow: 0px 1px 2px rgba(60, 64, 67, 0.3), 0px 1px 3px 1px rgba(60, 64, 67, 0.15);\n",
              "      fill: #174EA6;\n",
              "    }\n",
              "\n",
              "    [theme=dark] .colab-df-convert {\n",
              "      background-color: #3B4455;\n",
              "      fill: #D2E3FC;\n",
              "    }\n",
              "\n",
              "    [theme=dark] .colab-df-convert:hover {\n",
              "      background-color: #434B5C;\n",
              "      box-shadow: 0px 1px 3px 1px rgba(0, 0, 0, 0.15);\n",
              "      filter: drop-shadow(0px 1px 2px rgba(0, 0, 0, 0.3));\n",
              "      fill: #FFFFFF;\n",
              "    }\n",
              "  </style>\n",
              "\n",
              "      <script>\n",
              "        const buttonEl =\n",
              "          document.querySelector('#df-7ceabe0c-90c5-4958-90e3-e2c931f4bdfa button.colab-df-convert');\n",
              "        buttonEl.style.display =\n",
              "          google.colab.kernel.accessAllowed ? 'block' : 'none';\n",
              "\n",
              "        async function convertToInteractive(key) {\n",
              "          const element = document.querySelector('#df-7ceabe0c-90c5-4958-90e3-e2c931f4bdfa');\n",
              "          const dataTable =\n",
              "            await google.colab.kernel.invokeFunction('convertToInteractive',\n",
              "                                                     [key], {});\n",
              "          if (!dataTable) return;\n",
              "\n",
              "          const docLinkHtml = 'Like what you see? Visit the ' +\n",
              "            '<a target=\"_blank\" href=https://colab.research.google.com/notebooks/data_table.ipynb>data table notebook</a>'\n",
              "            + ' to learn more about interactive tables.';\n",
              "          element.innerHTML = '';\n",
              "          dataTable['output_type'] = 'display_data';\n",
              "          await google.colab.output.renderOutput(dataTable, element);\n",
              "          const docLink = document.createElement('div');\n",
              "          docLink.innerHTML = docLinkHtml;\n",
              "          element.appendChild(docLink);\n",
              "        }\n",
              "      </script>\n",
              "    </div>\n",
              "  </div>\n",
              "  "
            ]
          },
          "metadata": {},
          "execution_count": 4
        }
      ]
    },
    {
      "cell_type": "markdown",
      "source": [
        "**FEATURE INFORMATION**\n",
        "\n",
        "* **HallwayType** : Tipe ruang masuk apartement.\n",
        "* **TimeToSubway** : Waktu yang diperlukan dari apartement ke stasiun kereta bawah tanah (kategorikal).\n",
        "* **SubwayStation** : Nama stasiun bawah tanah didekat apartement.\n",
        "* **N_FacilitiesNearBy(ETC)** : Jumlah fasilitas publik didekat apartement seperti hotel dan sekolah khusus.\n",
        "* **N_FacilitiesNearBy(PublicOffice)** : Jumlah public offices didekat apartement.\n",
        "* **N_SchoolNearBy(University)** : Jumlah universitas didekat apartement.\n",
        "* **N_Parkinglot(Basement)** : Jumlah tempat parkir di basement.\n",
        "* **YearBuilt** : Tahun dibangun.\n",
        "* **N_FacilitiesInApt** : Jumlah fasilitas untuk penghuni, seperti kolam renang, _gym_, dan _playground_\n",
        "* **Size(sqf)** : ukuran apartement dalam _square feet_\n",
        "* **SalePrice** : Harga dalam US$ (target)"
      ],
      "metadata": {
        "id": "B29vlgSduaD6"
      }
    },
    {
      "cell_type": "code",
      "source": [
        "# informasi dasar mengenai dataset\n",
        "df.info()"
      ],
      "metadata": {
        "colab": {
          "base_uri": "https://localhost:8080/"
        },
        "id": "2pS0ehShAyHd",
        "outputId": "67efdf1a-2d83-4146-af14-bfc4a33ba748"
      },
      "execution_count": 5,
      "outputs": [
        {
          "output_type": "stream",
          "name": "stdout",
          "text": [
            "<class 'pandas.core.frame.DataFrame'>\n",
            "RangeIndex: 4123 entries, 0 to 4122\n",
            "Data columns (total 11 columns):\n",
            " #   Column                            Non-Null Count  Dtype  \n",
            "---  ------                            --------------  -----  \n",
            " 0   HallwayType                       4123 non-null   object \n",
            " 1   TimeToSubway                      4123 non-null   object \n",
            " 2   SubwayStation                     4123 non-null   object \n",
            " 3   N_FacilitiesNearBy(ETC)           4123 non-null   float64\n",
            " 4   N_FacilitiesNearBy(PublicOffice)  4123 non-null   float64\n",
            " 5   N_SchoolNearBy(University)        4123 non-null   float64\n",
            " 6   N_Parkinglot(Basement)            4123 non-null   float64\n",
            " 7   YearBuilt                         4123 non-null   int64  \n",
            " 8   N_FacilitiesInApt                 4123 non-null   int64  \n",
            " 9   Size(sqf)                         4123 non-null   int64  \n",
            " 10  SalePrice                         4123 non-null   int64  \n",
            "dtypes: float64(4), int64(4), object(3)\n",
            "memory usage: 354.4+ KB\n"
          ]
        }
      ]
    },
    {
      "cell_type": "markdown",
      "source": [
        "Sebelum menganalisa data lebih dalam, perlu kita tahu apakah data yang kita punya memiliki missing value atau tidak. Selain itu, kita juga perlu tahu data yang kita punya itu ada yang duplikat atau tidak. Data missing value membuat kita tidak memiliki informasi yang utuh alias datanya tida lengkap, sedangkan data duplikat hanya menambahkan data yang tidak kita perlukan."
      ],
      "metadata": {
        "id": "JBUe-3SM--Pm"
      }
    },
    {
      "cell_type": "code",
      "source": [
        "# memeriksa missing value\n",
        "df.isna().sum()"
      ],
      "metadata": {
        "colab": {
          "base_uri": "https://localhost:8080/"
        },
        "id": "BD5YwMK1vjeZ",
        "outputId": "d344d412-05c3-42cc-c945-619ba8b2d973"
      },
      "execution_count": 6,
      "outputs": [
        {
          "output_type": "execute_result",
          "data": {
            "text/plain": [
              "HallwayType                         0\n",
              "TimeToSubway                        0\n",
              "SubwayStation                       0\n",
              "N_FacilitiesNearBy(ETC)             0\n",
              "N_FacilitiesNearBy(PublicOffice)    0\n",
              "N_SchoolNearBy(University)          0\n",
              "N_Parkinglot(Basement)              0\n",
              "YearBuilt                           0\n",
              "N_FacilitiesInApt                   0\n",
              "Size(sqf)                           0\n",
              "SalePrice                           0\n",
              "dtype: int64"
            ]
          },
          "metadata": {},
          "execution_count": 6
        }
      ]
    },
    {
      "cell_type": "code",
      "source": [
        "# memeriksa baris duplikat pada data dan menghapusnya\n",
        "print(\"Jumlah data duplikasi : \", df.duplicated(keep = \"first\").sum())\n",
        "\n",
        "# menghapus baris data yang duplikat\n",
        "df.drop_duplicates(keep = \"first\", inplace = True)"
      ],
      "metadata": {
        "colab": {
          "base_uri": "https://localhost:8080/"
        },
        "id": "XcPbqVLeBMrR",
        "outputId": "6bcc7dc4-f44e-491a-f11c-a882011e9831"
      },
      "execution_count": 7,
      "outputs": [
        {
          "output_type": "stream",
          "name": "stdout",
          "text": [
            "Jumlah data duplikasi :  1422\n"
          ]
        }
      ]
    },
    {
      "cell_type": "markdown",
      "source": [
        "Terlihat bahwa data tidak memiliki missing value namun memiliki cukup banyak data yang duplikat sehingga perlu untuk menghapus data yang duplikat."
      ],
      "metadata": {
        "id": "y9_eCnkoGdPq"
      }
    },
    {
      "cell_type": "markdown",
      "source": [
        "Kita perlu mendalami karakteristik dari data yang kita punya. Kita akan mendalaminya dengan melihat deskripsi dari setiap kolom pada data"
      ],
      "metadata": {
        "id": "tfozfqMAGrTf"
      }
    },
    {
      "cell_type": "code",
      "source": [
        "# Kolom numerik\n",
        "display(df.describe())\n",
        "\n",
        "# kolom kategori\n",
        "display(df.describe(include = \"O\"))"
      ],
      "metadata": {
        "colab": {
          "base_uri": "https://localhost:8080/",
          "height": 458
        },
        "id": "XfRRGUjzE0-q",
        "outputId": "19032d9c-de6f-45fc-a95c-358496d99d13"
      },
      "execution_count": 8,
      "outputs": [
        {
          "output_type": "display_data",
          "data": {
            "text/plain": [
              "       N_FacilitiesNearBy(ETC)  N_FacilitiesNearBy(PublicOffice)  \\\n",
              "count              2701.000000                       2701.000000   \n",
              "mean                  1.890411                          4.027027   \n",
              "std                   2.153168                          1.887486   \n",
              "min                   0.000000                          0.000000   \n",
              "25%                   0.000000                          3.000000   \n",
              "50%                   1.000000                          4.000000   \n",
              "75%                   5.000000                          5.000000   \n",
              "max                   5.000000                          7.000000   \n",
              "\n",
              "       N_SchoolNearBy(University)  N_Parkinglot(Basement)    YearBuilt  \\\n",
              "count                 2701.000000             2701.000000  2701.000000   \n",
              "mean                     2.680489              533.746390  2002.358386   \n",
              "std                      1.504470              418.224859     9.151949   \n",
              "min                      0.000000                0.000000  1978.000000   \n",
              "25%                      2.000000              181.000000  1993.000000   \n",
              "50%                      2.000000              536.000000  2006.000000   \n",
              "75%                      4.000000              798.000000  2007.000000   \n",
              "max                      5.000000             1321.000000  2015.000000   \n",
              "\n",
              "       N_FacilitiesInApt    Size(sqf)      SalePrice  \n",
              "count        2701.000000  2701.000000    2701.000000  \n",
              "mean            5.713439   984.028878  229511.365790  \n",
              "std             2.386552   391.982619  105079.891321  \n",
              "min             1.000000   135.000000   32743.000000  \n",
              "25%             4.000000   743.000000  153539.000000  \n",
              "50%             5.000000   910.000000  221238.000000  \n",
              "75%             7.000000  1167.000000  300884.000000  \n",
              "max            10.000000  2337.000000  585840.000000  "
            ],
            "text/html": [
              "\n",
              "  <div id=\"df-d892ef09-a12a-4d82-82d4-f6971c27b9be\">\n",
              "    <div class=\"colab-df-container\">\n",
              "      <div>\n",
              "<style scoped>\n",
              "    .dataframe tbody tr th:only-of-type {\n",
              "        vertical-align: middle;\n",
              "    }\n",
              "\n",
              "    .dataframe tbody tr th {\n",
              "        vertical-align: top;\n",
              "    }\n",
              "\n",
              "    .dataframe thead th {\n",
              "        text-align: right;\n",
              "    }\n",
              "</style>\n",
              "<table border=\"1\" class=\"dataframe\">\n",
              "  <thead>\n",
              "    <tr style=\"text-align: right;\">\n",
              "      <th></th>\n",
              "      <th>N_FacilitiesNearBy(ETC)</th>\n",
              "      <th>N_FacilitiesNearBy(PublicOffice)</th>\n",
              "      <th>N_SchoolNearBy(University)</th>\n",
              "      <th>N_Parkinglot(Basement)</th>\n",
              "      <th>YearBuilt</th>\n",
              "      <th>N_FacilitiesInApt</th>\n",
              "      <th>Size(sqf)</th>\n",
              "      <th>SalePrice</th>\n",
              "    </tr>\n",
              "  </thead>\n",
              "  <tbody>\n",
              "    <tr>\n",
              "      <th>count</th>\n",
              "      <td>2701.000000</td>\n",
              "      <td>2701.000000</td>\n",
              "      <td>2701.000000</td>\n",
              "      <td>2701.000000</td>\n",
              "      <td>2701.000000</td>\n",
              "      <td>2701.000000</td>\n",
              "      <td>2701.000000</td>\n",
              "      <td>2701.000000</td>\n",
              "    </tr>\n",
              "    <tr>\n",
              "      <th>mean</th>\n",
              "      <td>1.890411</td>\n",
              "      <td>4.027027</td>\n",
              "      <td>2.680489</td>\n",
              "      <td>533.746390</td>\n",
              "      <td>2002.358386</td>\n",
              "      <td>5.713439</td>\n",
              "      <td>984.028878</td>\n",
              "      <td>229511.365790</td>\n",
              "    </tr>\n",
              "    <tr>\n",
              "      <th>std</th>\n",
              "      <td>2.153168</td>\n",
              "      <td>1.887486</td>\n",
              "      <td>1.504470</td>\n",
              "      <td>418.224859</td>\n",
              "      <td>9.151949</td>\n",
              "      <td>2.386552</td>\n",
              "      <td>391.982619</td>\n",
              "      <td>105079.891321</td>\n",
              "    </tr>\n",
              "    <tr>\n",
              "      <th>min</th>\n",
              "      <td>0.000000</td>\n",
              "      <td>0.000000</td>\n",
              "      <td>0.000000</td>\n",
              "      <td>0.000000</td>\n",
              "      <td>1978.000000</td>\n",
              "      <td>1.000000</td>\n",
              "      <td>135.000000</td>\n",
              "      <td>32743.000000</td>\n",
              "    </tr>\n",
              "    <tr>\n",
              "      <th>25%</th>\n",
              "      <td>0.000000</td>\n",
              "      <td>3.000000</td>\n",
              "      <td>2.000000</td>\n",
              "      <td>181.000000</td>\n",
              "      <td>1993.000000</td>\n",
              "      <td>4.000000</td>\n",
              "      <td>743.000000</td>\n",
              "      <td>153539.000000</td>\n",
              "    </tr>\n",
              "    <tr>\n",
              "      <th>50%</th>\n",
              "      <td>1.000000</td>\n",
              "      <td>4.000000</td>\n",
              "      <td>2.000000</td>\n",
              "      <td>536.000000</td>\n",
              "      <td>2006.000000</td>\n",
              "      <td>5.000000</td>\n",
              "      <td>910.000000</td>\n",
              "      <td>221238.000000</td>\n",
              "    </tr>\n",
              "    <tr>\n",
              "      <th>75%</th>\n",
              "      <td>5.000000</td>\n",
              "      <td>5.000000</td>\n",
              "      <td>4.000000</td>\n",
              "      <td>798.000000</td>\n",
              "      <td>2007.000000</td>\n",
              "      <td>7.000000</td>\n",
              "      <td>1167.000000</td>\n",
              "      <td>300884.000000</td>\n",
              "    </tr>\n",
              "    <tr>\n",
              "      <th>max</th>\n",
              "      <td>5.000000</td>\n",
              "      <td>7.000000</td>\n",
              "      <td>5.000000</td>\n",
              "      <td>1321.000000</td>\n",
              "      <td>2015.000000</td>\n",
              "      <td>10.000000</td>\n",
              "      <td>2337.000000</td>\n",
              "      <td>585840.000000</td>\n",
              "    </tr>\n",
              "  </tbody>\n",
              "</table>\n",
              "</div>\n",
              "      <button class=\"colab-df-convert\" onclick=\"convertToInteractive('df-d892ef09-a12a-4d82-82d4-f6971c27b9be')\"\n",
              "              title=\"Convert this dataframe to an interactive table.\"\n",
              "              style=\"display:none;\">\n",
              "        \n",
              "  <svg xmlns=\"http://www.w3.org/2000/svg\" height=\"24px\"viewBox=\"0 0 24 24\"\n",
              "       width=\"24px\">\n",
              "    <path d=\"M0 0h24v24H0V0z\" fill=\"none\"/>\n",
              "    <path d=\"M18.56 5.44l.94 2.06.94-2.06 2.06-.94-2.06-.94-.94-2.06-.94 2.06-2.06.94zm-11 1L8.5 8.5l.94-2.06 2.06-.94-2.06-.94L8.5 2.5l-.94 2.06-2.06.94zm10 10l.94 2.06.94-2.06 2.06-.94-2.06-.94-.94-2.06-.94 2.06-2.06.94z\"/><path d=\"M17.41 7.96l-1.37-1.37c-.4-.4-.92-.59-1.43-.59-.52 0-1.04.2-1.43.59L10.3 9.45l-7.72 7.72c-.78.78-.78 2.05 0 2.83L4 21.41c.39.39.9.59 1.41.59.51 0 1.02-.2 1.41-.59l7.78-7.78 2.81-2.81c.8-.78.8-2.07 0-2.86zM5.41 20L4 18.59l7.72-7.72 1.47 1.35L5.41 20z\"/>\n",
              "  </svg>\n",
              "      </button>\n",
              "      \n",
              "  <style>\n",
              "    .colab-df-container {\n",
              "      display:flex;\n",
              "      flex-wrap:wrap;\n",
              "      gap: 12px;\n",
              "    }\n",
              "\n",
              "    .colab-df-convert {\n",
              "      background-color: #E8F0FE;\n",
              "      border: none;\n",
              "      border-radius: 50%;\n",
              "      cursor: pointer;\n",
              "      display: none;\n",
              "      fill: #1967D2;\n",
              "      height: 32px;\n",
              "      padding: 0 0 0 0;\n",
              "      width: 32px;\n",
              "    }\n",
              "\n",
              "    .colab-df-convert:hover {\n",
              "      background-color: #E2EBFA;\n",
              "      box-shadow: 0px 1px 2px rgba(60, 64, 67, 0.3), 0px 1px 3px 1px rgba(60, 64, 67, 0.15);\n",
              "      fill: #174EA6;\n",
              "    }\n",
              "\n",
              "    [theme=dark] .colab-df-convert {\n",
              "      background-color: #3B4455;\n",
              "      fill: #D2E3FC;\n",
              "    }\n",
              "\n",
              "    [theme=dark] .colab-df-convert:hover {\n",
              "      background-color: #434B5C;\n",
              "      box-shadow: 0px 1px 3px 1px rgba(0, 0, 0, 0.15);\n",
              "      filter: drop-shadow(0px 1px 2px rgba(0, 0, 0, 0.3));\n",
              "      fill: #FFFFFF;\n",
              "    }\n",
              "  </style>\n",
              "\n",
              "      <script>\n",
              "        const buttonEl =\n",
              "          document.querySelector('#df-d892ef09-a12a-4d82-82d4-f6971c27b9be button.colab-df-convert');\n",
              "        buttonEl.style.display =\n",
              "          google.colab.kernel.accessAllowed ? 'block' : 'none';\n",
              "\n",
              "        async function convertToInteractive(key) {\n",
              "          const element = document.querySelector('#df-d892ef09-a12a-4d82-82d4-f6971c27b9be');\n",
              "          const dataTable =\n",
              "            await google.colab.kernel.invokeFunction('convertToInteractive',\n",
              "                                                     [key], {});\n",
              "          if (!dataTable) return;\n",
              "\n",
              "          const docLinkHtml = 'Like what you see? Visit the ' +\n",
              "            '<a target=\"_blank\" href=https://colab.research.google.com/notebooks/data_table.ipynb>data table notebook</a>'\n",
              "            + ' to learn more about interactive tables.';\n",
              "          element.innerHTML = '';\n",
              "          dataTable['output_type'] = 'display_data';\n",
              "          await google.colab.output.renderOutput(dataTable, element);\n",
              "          const docLink = document.createElement('div');\n",
              "          docLink.innerHTML = docLinkHtml;\n",
              "          element.appendChild(docLink);\n",
              "        }\n",
              "      </script>\n",
              "    </div>\n",
              "  </div>\n",
              "  "
            ]
          },
          "metadata": {}
        },
        {
          "output_type": "display_data",
          "data": {
            "text/plain": [
              "       HallwayType TimeToSubway SubwayStation\n",
              "count         2701         2701          2701\n",
              "unique           3            5             8\n",
              "top       terraced       0-5min     Myung-duk\n",
              "freq          1667         1248           709"
            ],
            "text/html": [
              "\n",
              "  <div id=\"df-8696501e-6cce-42cf-9b66-ef3e856d14e2\">\n",
              "    <div class=\"colab-df-container\">\n",
              "      <div>\n",
              "<style scoped>\n",
              "    .dataframe tbody tr th:only-of-type {\n",
              "        vertical-align: middle;\n",
              "    }\n",
              "\n",
              "    .dataframe tbody tr th {\n",
              "        vertical-align: top;\n",
              "    }\n",
              "\n",
              "    .dataframe thead th {\n",
              "        text-align: right;\n",
              "    }\n",
              "</style>\n",
              "<table border=\"1\" class=\"dataframe\">\n",
              "  <thead>\n",
              "    <tr style=\"text-align: right;\">\n",
              "      <th></th>\n",
              "      <th>HallwayType</th>\n",
              "      <th>TimeToSubway</th>\n",
              "      <th>SubwayStation</th>\n",
              "    </tr>\n",
              "  </thead>\n",
              "  <tbody>\n",
              "    <tr>\n",
              "      <th>count</th>\n",
              "      <td>2701</td>\n",
              "      <td>2701</td>\n",
              "      <td>2701</td>\n",
              "    </tr>\n",
              "    <tr>\n",
              "      <th>unique</th>\n",
              "      <td>3</td>\n",
              "      <td>5</td>\n",
              "      <td>8</td>\n",
              "    </tr>\n",
              "    <tr>\n",
              "      <th>top</th>\n",
              "      <td>terraced</td>\n",
              "      <td>0-5min</td>\n",
              "      <td>Myung-duk</td>\n",
              "    </tr>\n",
              "    <tr>\n",
              "      <th>freq</th>\n",
              "      <td>1667</td>\n",
              "      <td>1248</td>\n",
              "      <td>709</td>\n",
              "    </tr>\n",
              "  </tbody>\n",
              "</table>\n",
              "</div>\n",
              "      <button class=\"colab-df-convert\" onclick=\"convertToInteractive('df-8696501e-6cce-42cf-9b66-ef3e856d14e2')\"\n",
              "              title=\"Convert this dataframe to an interactive table.\"\n",
              "              style=\"display:none;\">\n",
              "        \n",
              "  <svg xmlns=\"http://www.w3.org/2000/svg\" height=\"24px\"viewBox=\"0 0 24 24\"\n",
              "       width=\"24px\">\n",
              "    <path d=\"M0 0h24v24H0V0z\" fill=\"none\"/>\n",
              "    <path d=\"M18.56 5.44l.94 2.06.94-2.06 2.06-.94-2.06-.94-.94-2.06-.94 2.06-2.06.94zm-11 1L8.5 8.5l.94-2.06 2.06-.94-2.06-.94L8.5 2.5l-.94 2.06-2.06.94zm10 10l.94 2.06.94-2.06 2.06-.94-2.06-.94-.94-2.06-.94 2.06-2.06.94z\"/><path d=\"M17.41 7.96l-1.37-1.37c-.4-.4-.92-.59-1.43-.59-.52 0-1.04.2-1.43.59L10.3 9.45l-7.72 7.72c-.78.78-.78 2.05 0 2.83L4 21.41c.39.39.9.59 1.41.59.51 0 1.02-.2 1.41-.59l7.78-7.78 2.81-2.81c.8-.78.8-2.07 0-2.86zM5.41 20L4 18.59l7.72-7.72 1.47 1.35L5.41 20z\"/>\n",
              "  </svg>\n",
              "      </button>\n",
              "      \n",
              "  <style>\n",
              "    .colab-df-container {\n",
              "      display:flex;\n",
              "      flex-wrap:wrap;\n",
              "      gap: 12px;\n",
              "    }\n",
              "\n",
              "    .colab-df-convert {\n",
              "      background-color: #E8F0FE;\n",
              "      border: none;\n",
              "      border-radius: 50%;\n",
              "      cursor: pointer;\n",
              "      display: none;\n",
              "      fill: #1967D2;\n",
              "      height: 32px;\n",
              "      padding: 0 0 0 0;\n",
              "      width: 32px;\n",
              "    }\n",
              "\n",
              "    .colab-df-convert:hover {\n",
              "      background-color: #E2EBFA;\n",
              "      box-shadow: 0px 1px 2px rgba(60, 64, 67, 0.3), 0px 1px 3px 1px rgba(60, 64, 67, 0.15);\n",
              "      fill: #174EA6;\n",
              "    }\n",
              "\n",
              "    [theme=dark] .colab-df-convert {\n",
              "      background-color: #3B4455;\n",
              "      fill: #D2E3FC;\n",
              "    }\n",
              "\n",
              "    [theme=dark] .colab-df-convert:hover {\n",
              "      background-color: #434B5C;\n",
              "      box-shadow: 0px 1px 3px 1px rgba(0, 0, 0, 0.15);\n",
              "      filter: drop-shadow(0px 1px 2px rgba(0, 0, 0, 0.3));\n",
              "      fill: #FFFFFF;\n",
              "    }\n",
              "  </style>\n",
              "\n",
              "      <script>\n",
              "        const buttonEl =\n",
              "          document.querySelector('#df-8696501e-6cce-42cf-9b66-ef3e856d14e2 button.colab-df-convert');\n",
              "        buttonEl.style.display =\n",
              "          google.colab.kernel.accessAllowed ? 'block' : 'none';\n",
              "\n",
              "        async function convertToInteractive(key) {\n",
              "          const element = document.querySelector('#df-8696501e-6cce-42cf-9b66-ef3e856d14e2');\n",
              "          const dataTable =\n",
              "            await google.colab.kernel.invokeFunction('convertToInteractive',\n",
              "                                                     [key], {});\n",
              "          if (!dataTable) return;\n",
              "\n",
              "          const docLinkHtml = 'Like what you see? Visit the ' +\n",
              "            '<a target=\"_blank\" href=https://colab.research.google.com/notebooks/data_table.ipynb>data table notebook</a>'\n",
              "            + ' to learn more about interactive tables.';\n",
              "          element.innerHTML = '';\n",
              "          dataTable['output_type'] = 'display_data';\n",
              "          await google.colab.output.renderOutput(dataTable, element);\n",
              "          const docLink = document.createElement('div');\n",
              "          docLink.innerHTML = docLinkHtml;\n",
              "          element.appendChild(docLink);\n",
              "        }\n",
              "      </script>\n",
              "    </div>\n",
              "  </div>\n",
              "  "
            ]
          },
          "metadata": {}
        }
      ]
    },
    {
      "cell_type": "markdown",
      "source": [
        "Dari deskripsi diatas, kita akan melakukan encoding pada data kategorikal sesuai dengan jumlah unique valuenya. Jika unique value nya lebih dari 5 maka kita akan terapkan binary encoder, dan one hot encoder jika sebaliknya. Kita juga akan menaruh perhatian khusus pada kolom `YearBuilt` (tahun bangunan dibuat), karena walaupun tahun merupakan data numerik tetapi angkanya tidak dapat dioperasikan secara matematis karena akan susah diinterpretasikan."
      ],
      "metadata": {
        "id": "Wg-7DlAwDZ0P"
      }
    },
    {
      "cell_type": "markdown",
      "source": [
        "Terlihat bahwa kolom target memiliki nilai yang besar, dari puluhan ribu sampai ratusan ribu. Menggunakan MSE sebagai evaluation metrics akan membuat error cenderung besar karena residual atau jarak antara nilai real dan prediksi nantinya akan lumayan besar juga. Sehingga pilihan kita salah satunya adalah dengan menggunakan RMSE atau MAE. Jika nilai outlier ada banyak pada kolom target, maka MAE cocok untuk digunakan. Namun jika tidak banyak dan distribusinya kelihatan normal, maka RMSE tepat untuk digunakan. Dalam notebook ini RMSE akan dijadikan sebagai acuan sebagai evaluation metrics nya."
      ],
      "metadata": {
        "id": "97-c0PU5YzQA"
      }
    },
    {
      "cell_type": "markdown",
      "source": [
        "> ## Data Preprocessing."
      ],
      "metadata": {
        "id": "0NJQcCv7AOdV"
      }
    },
    {
      "cell_type": "markdown",
      "source": [
        "Kita memiliki 3 kolom kategorikal. Dilihat dari jumlah unique value nya, kita akan melakukan one hot encoding pada kolom `HallwayType` dan `TimeToSubway`. Sedangkan pada kolom `SubwayStation` kita akan mengimplementasikan binary encoder. Kita akan menerapkan Binning pada kolom `YearBuilt` karena tahun akan lebih mudah diinterpretasikan sebagai data kategori."
      ],
      "metadata": {
        "id": "P4Aomcy8AeT0"
      }
    },
    {
      "cell_type": "code",
      "source": [
        "# Hubungan antara YearBuilt dengan SalesPrice\n",
        "\n",
        "plt.figure(figsize = (8, 5))\n",
        "sns.barplot(data = df, x = \"YearBuilt\", y = \"SalePrice\")\n",
        "plt.xticks(rotation = 45)\n",
        "plt.show()"
      ],
      "metadata": {
        "id": "f9jES15kHEiQ",
        "colab": {
          "base_uri": "https://localhost:8080/",
          "height": 349
        },
        "outputId": "761a6a9e-f4e0-4467-b39d-216402c2f472"
      },
      "execution_count": 9,
      "outputs": [
        {
          "output_type": "display_data",
          "data": {
            "text/plain": [
              "<Figure size 576x360 with 1 Axes>"
            ],
            "image/png": "[encoded data removed]"
          },
          "metadata": {
            "needs_background": "light"
          }
        }
      ]
    },
    {
      "cell_type": "markdown",
      "source": [
        "Dari grafik diatas, kita tahu bahwa harga rumah secara akumulatif memiliki pola yang tidak linear dari tahun ke tahun. Sehingga setelah melakukan Binning pada kolom `YearBuilt`, kita akan melakukan encoding dengan binary encoding."
      ],
      "metadata": {
        "id": "6m7HecyUGbdH"
      }
    },
    {
      "cell_type": "code",
      "source": [
        "# Binning\n",
        "df[\"YearBuilt\"] = pd.cut(df[\"YearBuilt\"], 5).astype(\"str\")"
      ],
      "metadata": {
        "id": "xRSmPTmI8eSg"
      },
      "execution_count": 10,
      "outputs": []
    },
    {
      "cell_type": "markdown",
      "source": [
        "**Distribution Plot Numerical Data**"
      ],
      "metadata": {
        "id": "XTNXKI1hHCMf"
      }
    },
    {
      "cell_type": "code",
      "source": [
        "# mengambil kolom numerik\n",
        "num_col = [col for col in df.columns if df[col].dtypes != \"O\"]\n",
        "num_col"
      ],
      "metadata": {
        "id": "4-LxnHBlFwNy",
        "colab": {
          "base_uri": "https://localhost:8080/"
        },
        "outputId": "12c58e95-925e-438f-89c9-b4f16b458db5"
      },
      "execution_count": 11,
      "outputs": [
        {
          "output_type": "execute_result",
          "data": {
            "text/plain": [
              "['N_FacilitiesNearBy(ETC)',\n",
              " 'N_FacilitiesNearBy(PublicOffice)',\n",
              " 'N_SchoolNearBy(University)',\n",
              " 'N_Parkinglot(Basement)',\n",
              " 'N_FacilitiesInApt',\n",
              " 'Size(sqf)',\n",
              " 'SalePrice']"
            ]
          },
          "metadata": {},
          "execution_count": 11
        }
      ]
    },
    {
      "cell_type": "code",
      "source": [
        "i = 1\n",
        "\n",
        "plt.figure(figsize=(15, 8))\n",
        "for col in num_col:\n",
        "    ax = plt.subplot(2, 4, i)\n",
        "    sns.histplot(df[col], kde = True, ax = ax)\n",
        "    plt.xlabel(col)\n",
        "    plt.tight_layout()\n",
        "\n",
        "    i += 1"
      ],
      "metadata": {
        "colab": {
          "base_uri": "https://localhost:8080/",
          "height": 585
        },
        "id": "8gqCy6mGHWDq",
        "outputId": "7c5579c9-88f3-44b7-f29e-08a7632b6398"
      },
      "execution_count": 12,
      "outputs": [
        {
          "output_type": "display_data",
          "data": {
            "text/plain": [
              "<Figure size 1080x576 with 7 Axes>"
            ],
            "image/png": "[encoded data removed]"
          },
          "metadata": {
            "needs_background": "light"
          }
        }
      ]
    },
    {
      "cell_type": "markdown",
      "source": [
        "Terlihat bahwa interval beberapa variabel numerik diatas berbeda-beda, dari hal ini kita tahu bahwa kita perlu melakukan Standarisasi. "
      ],
      "metadata": {
        "id": "savuWVjuLnhP"
      }
    },
    {
      "cell_type": "markdown",
      "source": [
        "**Outlier Checking**"
      ],
      "metadata": {
        "id": "UMObv7pNacbD"
      }
    },
    {
      "cell_type": "code",
      "source": [
        "# Boxplot\n",
        "\n",
        "i = 1\n",
        "\n",
        "plt.figure(figsize=(15, 8))\n",
        "for col in num_col:\n",
        "    ax = plt.subplot(2, 5, i)\n",
        "    sns.boxplot(y = df[col], ax = ax, orient = \"v\")\n",
        "    plt.xlabel(col)\n",
        "    plt.tight_layout()\n",
        "\n",
        "    i += 1"
      ],
      "metadata": {
        "id": "42TfxFktIGhf",
        "colab": {
          "base_uri": "https://localhost:8080/",
          "height": 585
        },
        "outputId": "118cf058-887e-4a65-bfaf-958ad3c8aab3"
      },
      "execution_count": 13,
      "outputs": [
        {
          "output_type": "display_data",
          "data": {
            "text/plain": [
              "<Figure size 1080x576 with 7 Axes>"
            ],
            "image/png": "[encoded data removed]"
          },
          "metadata": {
            "needs_background": "light"
          }
        }
      ]
    },
    {
      "cell_type": "markdown",
      "source": [
        "Terlihat bahwa kolom target `SalePrice` dan kolom `Size(sqf)` memiliki outlier. kita perlu untuk menghapus outlier pada kedua kolom ini supaya model yang kita punya bisa lebih _robust_ atau stabil, karena tidak ada nilai yang sifatnya beda sendiri dan sedikit pada model."
      ],
      "metadata": {
        "id": "W4W5j2pNZwvs"
      }
    },
    {
      "cell_type": "code",
      "source": [
        "# remove outlier\n",
        "\n",
        "def remove_outlier(df_in, col_name):\n",
        "    q1 = df_in[col_name].quantile(0.25)\n",
        "    q3 = df_in[col_name].quantile(0.75)\n",
        "    iqr = q3-q1 #Interquartile range\n",
        "\n",
        "    fence_low  = q1-1.5*iqr\n",
        "    fence_high = q3+1.5*iqr\n",
        "    \n",
        "    df_out = df_in.loc[(df_in[col_name] > fence_low) & (df_in[col_name] < fence_high)]\n",
        "    \n",
        "    return df_out"
      ],
      "metadata": {
        "id": "jSgejTiO2ESz"
      },
      "execution_count": 14,
      "outputs": []
    },
    {
      "cell_type": "code",
      "source": [
        "df = remove_outlier(df, \"SalePrice\")\n",
        "df = remove_outlier(df, \"Size(sqf)\")"
      ],
      "metadata": {
        "id": "HYvG7aGJ27EA"
      },
      "execution_count": 15,
      "outputs": []
    },
    {
      "cell_type": "markdown",
      "source": [
        "**Corelasi**"
      ],
      "metadata": {
        "id": "Wt9RhqHmfrLk"
      }
    },
    {
      "cell_type": "code",
      "source": [
        "mask = np.zeros_like(df[num_col].corr())\n",
        "mask[np.triu_indices_from(mask)] = True\n",
        "\n",
        "plt.figure(figsize = (13, 8))\n",
        "plt.title(\"Correlation Heatmap\", size = 16)\n",
        "sns.heatmap(df[num_col].corr(method = \"spearman\"), cmap = \"coolwarm\", annot = True, mask = mask, vmax = 1)\n",
        "plt.show()"
      ],
      "metadata": {
        "colab": {
          "base_uri": "https://localhost:8080/",
          "height": 650
        },
        "id": "qJkczHqUau0S",
        "outputId": "bb93750d-f2ed-4240-aa11-afa589738e24"
      },
      "execution_count": 16,
      "outputs": [
        {
          "output_type": "display_data",
          "data": {
            "text/plain": [
              "<Figure size 936x576 with 2 Axes>"
            ],
            "image/png": "[encoded data removed]"
          },
          "metadata": {
            "needs_background": "light"
          }
        }
      ]
    },
    {
      "cell_type": "markdown",
      "source": [
        "Beberapa variabel terlihat saling berkorelasi tinggi. Ada indikasi akan ada masalah multikolinearitas."
      ],
      "metadata": {
        "id": "f6e0WG7gh7r8"
      }
    },
    {
      "cell_type": "markdown",
      "source": [
        "> # Modelling"
      ],
      "metadata": {
        "id": "2Fyk-Bdaldk0"
      }
    },
    {
      "cell_type": "code",
      "source": [
        "from sklearn.model_selection import train_test_split\n",
        "\n",
        "from sklearn.preprocessing import StandardScaler\n",
        "from sklearn.preprocessing import OneHotEncoder\n",
        "\n",
        "from sklearn.pipeline import Pipeline\n",
        "from sklearn.compose import ColumnTransformer\n",
        "\n",
        "import category_encoders as ce"
      ],
      "metadata": {
        "id": "COf7k5dDnPav"
      },
      "execution_count": 17,
      "outputs": []
    },
    {
      "cell_type": "markdown",
      "source": [
        "**Preprocessing Scenario**"
      ],
      "metadata": {
        "id": "YjSDPD2MuXaY"
      }
    },
    {
      "cell_type": "code",
      "source": [
        "df.columns"
      ],
      "metadata": {
        "colab": {
          "base_uri": "https://localhost:8080/"
        },
        "id": "0UD8d4yMA_Wg",
        "outputId": "1538b036-2b0d-4c42-9ccf-7617bf139985"
      },
      "execution_count": 18,
      "outputs": [
        {
          "output_type": "execute_result",
          "data": {
            "text/plain": [
              "Index(['HallwayType', 'TimeToSubway', 'SubwayStation',\n",
              "       'N_FacilitiesNearBy(ETC)', 'N_FacilitiesNearBy(PublicOffice)',\n",
              "       'N_SchoolNearBy(University)', 'N_Parkinglot(Basement)', 'YearBuilt',\n",
              "       'N_FacilitiesInApt', 'Size(sqf)', 'SalePrice'],\n",
              "      dtype='object')"
            ]
          },
          "metadata": {},
          "execution_count": 18
        }
      ]
    },
    {
      "cell_type": "code",
      "source": [
        "# scaling data\n",
        "scaler = StandardScaler()\n",
        "scaling_col = [\n",
        "    'N_FacilitiesNearBy(ETC)',\n",
        "    'N_FacilitiesNearBy(PublicOffice)',\n",
        "    'N_SchoolNearBy(University)',\n",
        "    'N_Parkinglot(Basement)',\n",
        "    'N_FacilitiesInApt',\n",
        "    'Size(sqf)'\n",
        "]\n",
        "\n",
        "# One Hot Encoding\n",
        "onehot = OneHotEncoder(drop = \"first\")\n",
        "\n",
        "# Binary Encoding\n",
        "binary = ce.BinaryEncoder()\n",
        "\n",
        "# Transformer\n",
        "transformer = ColumnTransformer([\n",
        "    (\"scaling\", scaler, scaling_col),\n",
        "    (\"onehot\", onehot, [\"HallwayType\", \"TimeToSubway\"]),\n",
        "    (\"binary\", binary, [\"SubwayStation\", \"YearBuilt\"])\n",
        "])"
      ],
      "metadata": {
        "id": "f8bfq242rARt"
      },
      "execution_count": 19,
      "outputs": []
    },
    {
      "cell_type": "markdown",
      "source": [
        "**Data Splitting**"
      ],
      "metadata": {
        "id": "5cc5xuJDwEb2"
      }
    },
    {
      "cell_type": "markdown",
      "source": [
        "Nilai kolom target `SalePrice` bernilai puluhan ribu akan menyebabkan nilai error cenderung besar-besar. Sehingga kita akan transformasi nilainya menggunakan skala logaritmik dengan basis 10. Transformasi ini hanya mengecilkan nilai tanpa merubah maknanya karena transformasi ini bisa direverse untuk mendapatkan nilai yang sesungguhnya."
      ],
      "metadata": {
        "id": "br_09rwPassT"
      }
    },
    {
      "cell_type": "code",
      "source": [
        "X = df.drop(columns = [\"SalePrice\"])\n",
        "# y = df[\"SalePrice\"]\n",
        "y = np.log10(df['SalePrice'])"
      ],
      "metadata": {
        "id": "_neSHN6h1KYu"
      },
      "execution_count": 20,
      "outputs": []
    },
    {
      "cell_type": "code",
      "source": [
        "# Validasi\n",
        "X_trainval, X_test, y_trainval, y_test = train_test_split(\n",
        "    X,\n",
        "    y,\n",
        "    test_size = 540,\n",
        "    random_state = 2022\n",
        ")"
      ],
      "metadata": {
        "id": "wIBIKYEtwGxu"
      },
      "execution_count": 21,
      "outputs": []
    },
    {
      "cell_type": "code",
      "source": [
        "X_trainval_prep = transformer.fit_transform(X_trainval)\n",
        "X_test_prep = transformer.fit_transform(X_test)"
      ],
      "metadata": {
        "id": "wEjBgNAqAOuJ"
      },
      "execution_count": 22,
      "outputs": []
    },
    {
      "cell_type": "code",
      "source": [
        "col = (\n",
        "    transformer.transformers_[0][2] \n",
        "    + transformer.transformers_[1][1].get_feature_names_out().tolist()\n",
        "    + transformer.transformers_[2][1].get_feature_names() \n",
        ")"
      ],
      "metadata": {
        "id": "dkFc0nhcu12t"
      },
      "execution_count": 23,
      "outputs": []
    },
    {
      "cell_type": "code",
      "source": [
        "pd.DataFrame(X_trainval_prep, columns = col)"
      ],
      "metadata": {
        "colab": {
          "base_uri": "https://localhost:8080/",
          "height": 487
        },
        "id": "nxnGTwmLBIWr",
        "outputId": "32c9ba15-8f12-4d98-d769-e5cd6f71940e"
      },
      "execution_count": 24,
      "outputs": [
        {
          "output_type": "execute_result",
          "data": {
            "text/plain": [
              "      N_FacilitiesNearBy(ETC)  N_FacilitiesNearBy(PublicOffice)  \\\n",
              "0                    1.449311                          1.565260   \n",
              "1                    0.048911                          0.502074   \n",
              "2                   -0.884689                         -0.561112   \n",
              "3                   -0.884689                         -0.561112   \n",
              "4                    1.449311                          0.502074   \n",
              "...                       ...                               ...   \n",
              "2066                -0.417889                          0.502074   \n",
              "2067                -0.884689                          0.502074   \n",
              "2068                -0.417889                          0.502074   \n",
              "2069                -0.884689                         -0.561112   \n",
              "2070                -0.884689                         -1.624297   \n",
              "\n",
              "      N_SchoolNearBy(University)  N_Parkinglot(Basement)  N_FacilitiesInApt  \\\n",
              "0                       1.545527               -1.256457          -1.135601   \n",
              "1                      -1.784463               -1.074589          -1.135601   \n",
              "2                      -0.452467                1.782663           1.809971   \n",
              "3                      -0.452467                1.782663           1.809971   \n",
              "4                       0.879529                0.653163           0.547583   \n",
              "...                          ...                     ...                ...   \n",
              "2066                   -1.118465               -1.256457          -0.714805   \n",
              "2067                    0.213531                0.969040           0.547583   \n",
              "2068                   -1.118465               -1.256457          -0.714805   \n",
              "2069                   -0.452467               -0.299254           0.547583   \n",
              "2070                   -1.118465                1.904706           1.809971   \n",
              "\n",
              "      Size(sqf)  HallwayType_mixed  HallwayType_terraced  \\\n",
              "0     -1.081829                0.0                   0.0   \n",
              "1     -0.787666                0.0                   0.0   \n",
              "2      1.692127                0.0                   1.0   \n",
              "3      2.056888                0.0                   1.0   \n",
              "4     -0.087559                1.0                   0.0   \n",
              "...         ...                ...                   ...   \n",
              "2066  -0.087559                0.0                   1.0   \n",
              "2067  -0.099325                0.0                   1.0   \n",
              "2068   0.550775                0.0                   1.0   \n",
              "2069  -0.087559                0.0                   1.0   \n",
              "2070  -0.099325                0.0                   1.0   \n",
              "\n",
              "      TimeToSubway_10min~15min  TimeToSubway_15min~20min  \\\n",
              "0                          1.0                       0.0   \n",
              "1                          0.0                       0.0   \n",
              "2                          0.0                       0.0   \n",
              "3                          0.0                       0.0   \n",
              "4                          0.0                       0.0   \n",
              "...                        ...                       ...   \n",
              "2066                       1.0                       0.0   \n",
              "2067                       0.0                       0.0   \n",
              "2068                       1.0                       0.0   \n",
              "2069                       0.0                       0.0   \n",
              "2070                       0.0                       0.0   \n",
              "\n",
              "      TimeToSubway_5min~10min  TimeToSubway_no_bus_stop_nearby  \\\n",
              "0                         0.0                              0.0   \n",
              "1                         1.0                              0.0   \n",
              "2                         0.0                              0.0   \n",
              "3                         0.0                              0.0   \n",
              "4                         1.0                              0.0   \n",
              "...                       ...                              ...   \n",
              "2066                      0.0                              0.0   \n",
              "2067                      0.0                              0.0   \n",
              "2068                      0.0                              0.0   \n",
              "2069                      1.0                              0.0   \n",
              "2070                      1.0                              0.0   \n",
              "\n",
              "      SubwayStation_0  SubwayStation_1  SubwayStation_2  SubwayStation_3  \\\n",
              "0                 0.0              0.0              0.0              1.0   \n",
              "1                 0.0              0.0              1.0              0.0   \n",
              "2                 0.0              0.0              1.0              1.0   \n",
              "3                 0.0              0.0              1.0              1.0   \n",
              "4                 0.0              1.0              0.0              0.0   \n",
              "...               ...              ...              ...              ...   \n",
              "2066              0.0              0.0              1.0              1.0   \n",
              "2067              0.0              0.0              1.0              1.0   \n",
              "2068              0.0              0.0              1.0              1.0   \n",
              "2069              0.0              0.0              1.0              0.0   \n",
              "2070              0.0              1.0              1.0              0.0   \n",
              "\n",
              "      YearBuilt_0  YearBuilt_1  YearBuilt_2  \n",
              "0             0.0          0.0          1.0  \n",
              "1             0.0          1.0          0.0  \n",
              "2             0.0          1.0          1.0  \n",
              "3             0.0          1.0          1.0  \n",
              "4             0.0          1.0          1.0  \n",
              "...           ...          ...          ...  \n",
              "2066          0.0          0.0          1.0  \n",
              "2067          1.0          0.0          0.0  \n",
              "2068          0.0          0.0          1.0  \n",
              "2069          1.0          0.0          0.0  \n",
              "2070          1.0          0.0          0.0  \n",
              "\n",
              "[2071 rows x 19 columns]"
            ],
            "text/html": [
              "\n",
              "  <div id=\"df-e4f92e48-ce74-40db-a38e-ca7704675dc5\">\n",
              "    <div class=\"colab-df-container\">\n",
              "      <div>\n",
              "<style scoped>\n",
              "    .dataframe tbody tr th:only-of-type {\n",
              "        vertical-align: middle;\n",
              "    }\n",
              "\n",
              "    .dataframe tbody tr th {\n",
              "        vertical-align: top;\n",
              "    }\n",
              "\n",
              "    .dataframe thead th {\n",
              "        text-align: right;\n",
              "    }\n",
              "</style>\n",
              "<table border=\"1\" class=\"dataframe\">\n",
              "  <thead>\n",
              "    <tr style=\"text-align: right;\">\n",
              "      <th></th>\n",
              "      <th>N_FacilitiesNearBy(ETC)</th>\n",
              "      <th>N_FacilitiesNearBy(PublicOffice)</th>\n",
              "      <th>N_SchoolNearBy(University)</th>\n",
              "      <th>N_Parkinglot(Basement)</th>\n",
              "      <th>N_FacilitiesInApt</th>\n",
              "      <th>Size(sqf)</th>\n",
              "      <th>HallwayType_mixed</th>\n",
              "      <th>HallwayType_terraced</th>\n",
              "      <th>TimeToSubway_10min~15min</th>\n",
              "      <th>TimeToSubway_15min~20min</th>\n",
              "      <th>TimeToSubway_5min~10min</th>\n",
              "      <th>TimeToSubway_no_bus_stop_nearby</th>\n",
              "      <th>SubwayStation_0</th>\n",
              "      <th>SubwayStation_1</th>\n",
              "      <th>SubwayStation_2</th>\n",
              "      <th>SubwayStation_3</th>\n",
              "      <th>YearBuilt_0</th>\n",
              "      <th>YearBuilt_1</th>\n",
              "      <th>YearBuilt_2</th>\n",
              "    </tr>\n",
              "  </thead>\n",
              "  <tbody>\n",
              "    <tr>\n",
              "      <th>0</th>\n",
              "      <td>1.449311</td>\n",
              "      <td>1.565260</td>\n",
              "      <td>1.545527</td>\n",
              "      <td>-1.256457</td>\n",
              "      <td>-1.135601</td>\n",
              "      <td>-1.081829</td>\n",
              "      <td>0.0</td>\n",
              "      <td>0.0</td>\n",
              "      <td>1.0</td>\n",
              "      <td>0.0</td>\n",
              "      <td>0.0</td>\n",
              "      <td>0.0</td>\n",
              "      <td>0.0</td>\n",
              "      <td>0.0</td>\n",
              "      <td>0.0</td>\n",
              "      <td>1.0</td>\n",
              "      <td>0.0</td>\n",
              "      <td>0.0</td>\n",
              "      <td>1.0</td>\n",
              "    </tr>\n",
              "    <tr>\n",
              "      <th>1</th>\n",
              "      <td>0.048911</td>\n",
              "      <td>0.502074</td>\n",
              "      <td>-1.784463</td>\n",
              "      <td>-1.074589</td>\n",
              "      <td>-1.135601</td>\n",
              "      <td>-0.787666</td>\n",
              "      <td>0.0</td>\n",
              "      <td>0.0</td>\n",
              "      <td>0.0</td>\n",
              "      <td>0.0</td>\n",
              "      <td>1.0</td>\n",
              "      <td>0.0</td>\n",
              "      <td>0.0</td>\n",
              "      <td>0.0</td>\n",
              "      <td>1.0</td>\n",
              "      <td>0.0</td>\n",
              "      <td>0.0</td>\n",
              "      <td>1.0</td>\n",
              "      <td>0.0</td>\n",
              "    </tr>\n",
              "    <tr>\n",
              "      <th>2</th>\n",
              "      <td>-0.884689</td>\n",
              "      <td>-0.561112</td>\n",
              "      <td>-0.452467</td>\n",
              "      <td>1.782663</td>\n",
              "      <td>1.809971</td>\n",
              "      <td>1.692127</td>\n",
              "      <td>0.0</td>\n",
              "      <td>1.0</td>\n",
              "      <td>0.0</td>\n",
              "      <td>0.0</td>\n",
              "      <td>0.0</td>\n",
              "      <td>0.0</td>\n",
              "      <td>0.0</td>\n",
              "      <td>0.0</td>\n",
              "      <td>1.0</td>\n",
              "      <td>1.0</td>\n",
              "      <td>0.0</td>\n",
              "      <td>1.0</td>\n",
              "      <td>1.0</td>\n",
              "    </tr>\n",
              "    <tr>\n",
              "      <th>3</th>\n",
              "      <td>-0.884689</td>\n",
              "      <td>-0.561112</td>\n",
              "      <td>-0.452467</td>\n",
              "      <td>1.782663</td>\n",
              "      <td>1.809971</td>\n",
              "      <td>2.056888</td>\n",
              "      <td>0.0</td>\n",
              "      <td>1.0</td>\n",
              "      <td>0.0</td>\n",
              "      <td>0.0</td>\n",
              "      <td>0.0</td>\n",
              "      <td>0.0</td>\n",
              "      <td>0.0</td>\n",
              "      <td>0.0</td>\n",
              "      <td>1.0</td>\n",
              "      <td>1.0</td>\n",
              "      <td>0.0</td>\n",
              "      <td>1.0</td>\n",
              "      <td>1.0</td>\n",
              "    </tr>\n",
              "    <tr>\n",
              "      <th>4</th>\n",
              "      <td>1.449311</td>\n",
              "      <td>0.502074</td>\n",
              "      <td>0.879529</td>\n",
              "      <td>0.653163</td>\n",
              "      <td>0.547583</td>\n",
              "      <td>-0.087559</td>\n",
              "      <td>1.0</td>\n",
              "      <td>0.0</td>\n",
              "      <td>0.0</td>\n",
              "      <td>0.0</td>\n",
              "      <td>1.0</td>\n",
              "      <td>0.0</td>\n",
              "      <td>0.0</td>\n",
              "      <td>1.0</td>\n",
              "      <td>0.0</td>\n",
              "      <td>0.0</td>\n",
              "      <td>0.0</td>\n",
              "      <td>1.0</td>\n",
              "      <td>1.0</td>\n",
              "    </tr>\n",
              "    <tr>\n",
              "      <th>...</th>\n",
              "      <td>...</td>\n",
              "      <td>...</td>\n",
              "      <td>...</td>\n",
              "      <td>...</td>\n",
              "      <td>...</td>\n",
              "      <td>...</td>\n",
              "      <td>...</td>\n",
              "      <td>...</td>\n",
              "      <td>...</td>\n",
              "      <td>...</td>\n",
              "      <td>...</td>\n",
              "      <td>...</td>\n",
              "      <td>...</td>\n",
              "      <td>...</td>\n",
              "      <td>...</td>\n",
              "      <td>...</td>\n",
              "      <td>...</td>\n",
              "      <td>...</td>\n",
              "      <td>...</td>\n",
              "    </tr>\n",
              "    <tr>\n",
              "      <th>2066</th>\n",
              "      <td>-0.417889</td>\n",
              "      <td>0.502074</td>\n",
              "      <td>-1.118465</td>\n",
              "      <td>-1.256457</td>\n",
              "      <td>-0.714805</td>\n",
              "      <td>-0.087559</td>\n",
              "      <td>0.0</td>\n",
              "      <td>1.0</td>\n",
              "      <td>1.0</td>\n",
              "      <td>0.0</td>\n",
              "      <td>0.0</td>\n",
              "      <td>0.0</td>\n",
              "      <td>0.0</td>\n",
              "      <td>0.0</td>\n",
              "      <td>1.0</td>\n",
              "      <td>1.0</td>\n",
              "      <td>0.0</td>\n",
              "      <td>0.0</td>\n",
              "      <td>1.0</td>\n",
              "    </tr>\n",
              "    <tr>\n",
              "      <th>2067</th>\n",
              "      <td>-0.884689</td>\n",
              "      <td>0.502074</td>\n",
              "      <td>0.213531</td>\n",
              "      <td>0.969040</td>\n",
              "      <td>0.547583</td>\n",
              "      <td>-0.099325</td>\n",
              "      <td>0.0</td>\n",
              "      <td>1.0</td>\n",
              "      <td>0.0</td>\n",
              "      <td>0.0</td>\n",
              "      <td>0.0</td>\n",
              "      <td>0.0</td>\n",
              "      <td>0.0</td>\n",
              "      <td>0.0</td>\n",
              "      <td>1.0</td>\n",
              "      <td>1.0</td>\n",
              "      <td>1.0</td>\n",
              "      <td>0.0</td>\n",
              "      <td>0.0</td>\n",
              "    </tr>\n",
              "    <tr>\n",
              "      <th>2068</th>\n",
              "      <td>-0.417889</td>\n",
              "      <td>0.502074</td>\n",
              "      <td>-1.118465</td>\n",
              "      <td>-1.256457</td>\n",
              "      <td>-0.714805</td>\n",
              "      <td>0.550775</td>\n",
              "      <td>0.0</td>\n",
              "      <td>1.0</td>\n",
              "      <td>1.0</td>\n",
              "      <td>0.0</td>\n",
              "      <td>0.0</td>\n",
              "      <td>0.0</td>\n",
              "      <td>0.0</td>\n",
              "      <td>0.0</td>\n",
              "      <td>1.0</td>\n",
              "      <td>1.0</td>\n",
              "      <td>0.0</td>\n",
              "      <td>0.0</td>\n",
              "      <td>1.0</td>\n",
              "    </tr>\n",
              "    <tr>\n",
              "      <th>2069</th>\n",
              "      <td>-0.884689</td>\n",
              "      <td>-0.561112</td>\n",
              "      <td>-0.452467</td>\n",
              "      <td>-0.299254</td>\n",
              "      <td>0.547583</td>\n",
              "      <td>-0.087559</td>\n",
              "      <td>0.0</td>\n",
              "      <td>1.0</td>\n",
              "      <td>0.0</td>\n",
              "      <td>0.0</td>\n",
              "      <td>1.0</td>\n",
              "      <td>0.0</td>\n",
              "      <td>0.0</td>\n",
              "      <td>0.0</td>\n",
              "      <td>1.0</td>\n",
              "      <td>0.0</td>\n",
              "      <td>1.0</td>\n",
              "      <td>0.0</td>\n",
              "      <td>0.0</td>\n",
              "    </tr>\n",
              "    <tr>\n",
              "      <th>2070</th>\n",
              "      <td>-0.884689</td>\n",
              "      <td>-1.624297</td>\n",
              "      <td>-1.118465</td>\n",
              "      <td>1.904706</td>\n",
              "      <td>1.809971</td>\n",
              "      <td>-0.099325</td>\n",
              "      <td>0.0</td>\n",
              "      <td>1.0</td>\n",
              "      <td>0.0</td>\n",
              "      <td>0.0</td>\n",
              "      <td>1.0</td>\n",
              "      <td>0.0</td>\n",
              "      <td>0.0</td>\n",
              "      <td>1.0</td>\n",
              "      <td>1.0</td>\n",
              "      <td>0.0</td>\n",
              "      <td>1.0</td>\n",
              "      <td>0.0</td>\n",
              "      <td>0.0</td>\n",
              "    </tr>\n",
              "  </tbody>\n",
              "</table>\n",
              "<p>2071 rows × 19 columns</p>\n",
              "</div>\n",
              "      <button class=\"colab-df-convert\" onclick=\"convertToInteractive('df-e4f92e48-ce74-40db-a38e-ca7704675dc5')\"\n",
              "              title=\"Convert this dataframe to an interactive table.\"\n",
              "              style=\"display:none;\">\n",
              "        \n",
              "  <svg xmlns=\"http://www.w3.org/2000/svg\" height=\"24px\"viewBox=\"0 0 24 24\"\n",
              "       width=\"24px\">\n",
              "    <path d=\"M0 0h24v24H0V0z\" fill=\"none\"/>\n",
              "    <path d=\"M18.56 5.44l.94 2.06.94-2.06 2.06-.94-2.06-.94-.94-2.06-.94 2.06-2.06.94zm-11 1L8.5 8.5l.94-2.06 2.06-.94-2.06-.94L8.5 2.5l-.94 2.06-2.06.94zm10 10l.94 2.06.94-2.06 2.06-.94-2.06-.94-.94-2.06-.94 2.06-2.06.94z\"/><path d=\"M17.41 7.96l-1.37-1.37c-.4-.4-.92-.59-1.43-.59-.52 0-1.04.2-1.43.59L10.3 9.45l-7.72 7.72c-.78.78-.78 2.05 0 2.83L4 21.41c.39.39.9.59 1.41.59.51 0 1.02-.2 1.41-.59l7.78-7.78 2.81-2.81c.8-.78.8-2.07 0-2.86zM5.41 20L4 18.59l7.72-7.72 1.47 1.35L5.41 20z\"/>\n",
              "  </svg>\n",
              "      </button>\n",
              "      \n",
              "  <style>\n",
              "    .colab-df-container {\n",
              "      display:flex;\n",
              "      flex-wrap:wrap;\n",
              "      gap: 12px;\n",
              "    }\n",
              "\n",
              "    .colab-df-convert {\n",
              "      background-color: #E8F0FE;\n",
              "      border: none;\n",
              "      border-radius: 50%;\n",
              "      cursor: pointer;\n",
              "      display: none;\n",
              "      fill: #1967D2;\n",
              "      height: 32px;\n",
              "      padding: 0 0 0 0;\n",
              "      width: 32px;\n",
              "    }\n",
              "\n",
              "    .colab-df-convert:hover {\n",
              "      background-color: #E2EBFA;\n",
              "      box-shadow: 0px 1px 2px rgba(60, 64, 67, 0.3), 0px 1px 3px 1px rgba(60, 64, 67, 0.15);\n",
              "      fill: #174EA6;\n",
              "    }\n",
              "\n",
              "    [theme=dark] .colab-df-convert {\n",
              "      background-color: #3B4455;\n",
              "      fill: #D2E3FC;\n",
              "    }\n",
              "\n",
              "    [theme=dark] .colab-df-convert:hover {\n",
              "      background-color: #434B5C;\n",
              "      box-shadow: 0px 1px 3px 1px rgba(0, 0, 0, 0.15);\n",
              "      filter: drop-shadow(0px 1px 2px rgba(0, 0, 0, 0.3));\n",
              "      fill: #FFFFFF;\n",
              "    }\n",
              "  </style>\n",
              "\n",
              "      <script>\n",
              "        const buttonEl =\n",
              "          document.querySelector('#df-e4f92e48-ce74-40db-a38e-ca7704675dc5 button.colab-df-convert');\n",
              "        buttonEl.style.display =\n",
              "          google.colab.kernel.accessAllowed ? 'block' : 'none';\n",
              "\n",
              "        async function convertToInteractive(key) {\n",
              "          const element = document.querySelector('#df-e4f92e48-ce74-40db-a38e-ca7704675dc5');\n",
              "          const dataTable =\n",
              "            await google.colab.kernel.invokeFunction('convertToInteractive',\n",
              "                                                     [key], {});\n",
              "          if (!dataTable) return;\n",
              "\n",
              "          const docLinkHtml = 'Like what you see? Visit the ' +\n",
              "            '<a target=\"_blank\" href=https://colab.research.google.com/notebooks/data_table.ipynb>data table notebook</a>'\n",
              "            + ' to learn more about interactive tables.';\n",
              "          element.innerHTML = '';\n",
              "          dataTable['output_type'] = 'display_data';\n",
              "          await google.colab.output.renderOutput(dataTable, element);\n",
              "          const docLink = document.createElement('div');\n",
              "          docLink.innerHTML = docLinkHtml;\n",
              "          element.appendChild(docLink);\n",
              "        }\n",
              "      </script>\n",
              "    </div>\n",
              "  </div>\n",
              "  "
            ]
          },
          "metadata": {},
          "execution_count": 24
        }
      ]
    },
    {
      "cell_type": "markdown",
      "source": [
        "**Benchmark**"
      ],
      "metadata": {
        "id": "_XBxp-SRlgqa"
      }
    },
    {
      "cell_type": "markdown",
      "source": [
        "Model benchmark disini adalah model yang menggunakan parameter default. Kita akan menguji semua opsi model yang kita punya dengan parameter-parameter defaultnya. Model yang memiliki performa paling bagus dengan parameter default, punya kemungkinan untuk lebih bagus lagi ketika kita optimasi dengan hyperparameter tuning. Jadi benchmark model merupakan langkah awal yang kita lakukan dalam pemilihan model."
      ],
      "metadata": {
        "id": "JvWtWMJ10kA3"
      }
    },
    {
      "cell_type": "code",
      "source": [
        "from sklearn.model_selection import KFold, cross_val_score, StratifiedKFold\n",
        "from sklearn.model_selection import RandomizedSearchCV\n",
        "\n",
        "from sklearn.linear_model import LinearRegression, Lasso, Ridge\n",
        "from sklearn.neighbors import KNeighborsRegressor\n",
        "from sklearn.tree import DecisionTreeRegressor\n",
        "from sklearn.ensemble import RandomForestRegressor\n",
        "from xgboost.sklearn import XGBRegressor"
      ],
      "metadata": {
        "id": "Usv7eU5d1fAn"
      },
      "execution_count": 25,
      "outputs": []
    },
    {
      "cell_type": "code",
      "source": [
        "# Model Benchmark (menggunakan parameter default)\n",
        "\n",
        "lr = LinearRegression()\n",
        "lasso = Lasso()\n",
        "ridge = Ridge()\n",
        "knn = KNeighborsRegressor()\n",
        "tree = DecisionTreeRegressor(random_state = 2022)\n",
        "rf = RandomForestRegressor(random_state = 2022)\n",
        "xgb = XGBRegressor(random_state = 2022)"
      ],
      "metadata": {
        "id": "EJxHqzI42VI2"
      },
      "execution_count": 26,
      "outputs": []
    },
    {
      "cell_type": "markdown",
      "source": [
        "Disini kita menggunakan root mean square error sebagai alat ukur untuk mengetahui model dengan performa terbaik. Semakin bagus modelnya, semakin nilai RMSE nya mendekati nol."
      ],
      "metadata": {
        "id": "aNXgEivl1Ghx"
      }
    },
    {
      "cell_type": "code",
      "source": [
        "def model_evaluation(model, metric):\n",
        "  skfold = KFold(n_splits = 5, shuffle = True, random_state = 2022)\n",
        "  model_cv = cross_val_score(model, X_trainval_prep, y_trainval, cv = skfold, scoring = metric)\n",
        "\n",
        "  print(\"hasil cross validasi : \", model_cv)\n",
        "  print(\"rata-rata cross validasi : \", model_cv.mean())\n",
        "  print(\"standar deviasi cross validasi : \", model_cv.std())"
      ],
      "metadata": {
        "id": "Jd_Q6y7qc2jX"
      },
      "execution_count": 27,
      "outputs": []
    },
    {
      "cell_type": "code",
      "source": [
        "model_evaluation(lr, \"neg_root_mean_squared_error\")"
      ],
      "metadata": {
        "colab": {
          "base_uri": "https://localhost:8080/"
        },
        "id": "-IfVgp3kdCA5",
        "outputId": "645a4d9b-89fd-4928-8c27-359b56f0aeb5"
      },
      "execution_count": 28,
      "outputs": [
        {
          "output_type": "stream",
          "name": "stdout",
          "text": [
            "hasil cross validasi :  [-0.10758522 -0.10878613 -0.10944104 -0.10534321 -0.11110114]\n",
            "rata-rata cross validasi :  -0.10845134629468278\n",
            "standar deviasi cross validasi :  0.0019247657498843076\n"
          ]
        }
      ]
    },
    {
      "cell_type": "code",
      "source": [
        "model_evaluation(lasso, \"neg_root_mean_squared_error\")"
      ],
      "metadata": {
        "colab": {
          "base_uri": "https://localhost:8080/"
        },
        "id": "yXdesHSodM8k",
        "outputId": "580ae7eb-1fde-4f36-bf2c-ef6230236c7b"
      },
      "execution_count": 29,
      "outputs": [
        {
          "output_type": "stream",
          "name": "stdout",
          "text": [
            "hasil cross validasi :  [-0.23406821 -0.23106447 -0.23674105 -0.24342946 -0.22840736]\n",
            "rata-rata cross validasi :  -0.23474211027622577\n",
            "standar deviasi cross validasi :  0.005168638282366505\n"
          ]
        }
      ]
    },
    {
      "cell_type": "code",
      "source": [
        "model_evaluation(ridge, \"neg_root_mean_squared_error\")"
      ],
      "metadata": {
        "colab": {
          "base_uri": "https://localhost:8080/"
        },
        "id": "L_Fyzjy2dROB",
        "outputId": "9c1469ff-3ca3-4bbe-8727-8c9046462285"
      },
      "execution_count": 30,
      "outputs": [
        {
          "output_type": "stream",
          "name": "stdout",
          "text": [
            "hasil cross validasi :  [-0.1077751  -0.108645   -0.10955937 -0.10538421 -0.11074858]\n",
            "rata-rata cross validasi :  -0.10842245063838954\n",
            "standar deviasi cross validasi :  0.0018112404772745632\n"
          ]
        }
      ]
    },
    {
      "cell_type": "code",
      "source": [
        "model_evaluation(knn, \"neg_root_mean_squared_error\")"
      ],
      "metadata": {
        "colab": {
          "base_uri": "https://localhost:8080/"
        },
        "id": "BbNRUou6dTpT",
        "outputId": "c56e2ff1-2a15-4b01-bcac-45b1fdd3f866"
      },
      "execution_count": 31,
      "outputs": [
        {
          "output_type": "stream",
          "name": "stdout",
          "text": [
            "hasil cross validasi :  [-0.10424373 -0.10570196 -0.1054501  -0.1017784  -0.10180414]\n",
            "rata-rata cross validasi :  -0.10379566568587198\n",
            "standar deviasi cross validasi :  0.0017092340592474715\n"
          ]
        }
      ]
    },
    {
      "cell_type": "code",
      "source": [
        "model_evaluation(tree, \"neg_root_mean_squared_error\")"
      ],
      "metadata": {
        "colab": {
          "base_uri": "https://localhost:8080/"
        },
        "id": "qUuwNW1KdWDy",
        "outputId": "fd666138-6504-49c6-a2ff-8a8d1d0e43c7"
      },
      "execution_count": 32,
      "outputs": [
        {
          "output_type": "stream",
          "name": "stdout",
          "text": [
            "hasil cross validasi :  [-0.09921955 -0.09967179 -0.10124679 -0.0967927  -0.10069197]\n",
            "rata-rata cross validasi :  -0.09952456169735553\n",
            "standar deviasi cross validasi :  0.0015431573352422078\n"
          ]
        }
      ]
    },
    {
      "cell_type": "code",
      "source": [
        "model_evaluation(rf, \"neg_root_mean_squared_error\")"
      ],
      "metadata": {
        "colab": {
          "base_uri": "https://localhost:8080/"
        },
        "id": "UJNkL18DdY4D",
        "outputId": "0d63d728-8af0-440c-eaf3-12f81c3f05c7"
      },
      "execution_count": 33,
      "outputs": [
        {
          "output_type": "stream",
          "name": "stdout",
          "text": [
            "hasil cross validasi :  [-0.09924231 -0.10033072 -0.10111485 -0.09584538 -0.10070773]\n",
            "rata-rata cross validasi :  -0.09944820113556341\n",
            "standar deviasi cross validasi :  0.0019060791114920042\n"
          ]
        }
      ]
    },
    {
      "cell_type": "code",
      "source": [
        "model_evaluation(xgb, \"neg_root_mean_squared_error\")"
      ],
      "metadata": {
        "colab": {
          "base_uri": "https://localhost:8080/"
        },
        "id": "FGVPci2Hdaby",
        "outputId": "dcd3c2a0-0688-4c79-b530-28530d4b72c3"
      },
      "execution_count": 34,
      "outputs": [
        {
          "output_type": "stream",
          "name": "stdout",
          "text": [
            "[15:23:59] WARNING: /workspace/src/objective/regression_obj.cu:152: reg:linear is now deprecated in favor of reg:squarederror.\n",
            "[15:24:00] WARNING: /workspace/src/objective/regression_obj.cu:152: reg:linear is now deprecated in favor of reg:squarederror.\n",
            "[15:24:00] WARNING: /workspace/src/objective/regression_obj.cu:152: reg:linear is now deprecated in favor of reg:squarederror.\n",
            "[15:24:00] WARNING: /workspace/src/objective/regression_obj.cu:152: reg:linear is now deprecated in favor of reg:squarederror.\n",
            "[15:24:00] WARNING: /workspace/src/objective/regression_obj.cu:152: reg:linear is now deprecated in favor of reg:squarederror.\n",
            "hasil cross validasi :  [-0.09863063 -0.0990319  -0.0992501  -0.09504534 -0.09943133]\n",
            "rata-rata cross validasi :  -0.09827786040742277\n",
            "standar deviasi cross validasi :  0.0016381649679361933\n"
          ]
        }
      ]
    },
    {
      "cell_type": "markdown",
      "source": [
        "Berdasarkan nilai dari RMSE, maka model XGBoost memiliki nilai terbaik (Karena paling mendekati nol) walaupun perbedaan nilai rata-rata RMSE nya untuk model tree dan random forest terpantau sangat kecil. Selanjutnya kita akan melakukan prediksi dengan menggunakan model benchmark XGBoost, RandomForest, dan DecisionTree karena ketiga model ini sama-sama memiliki potensi."
      ],
      "metadata": {
        "id": "x6Ibvhlgfnny"
      }
    },
    {
      "cell_type": "markdown",
      "source": [
        "**Benchmark Model in Test Set**"
      ],
      "metadata": {
        "id": "8q9N-gXzl01K"
      }
    },
    {
      "cell_type": "markdown",
      "source": [
        "Kita akan menggunakan MAE dan MAPE juga sebagain evaluation metrics supaya lebih banyak nilai error yang kita bandingkan."
      ],
      "metadata": {
        "id": "Ju3W_oduhyNi"
      }
    },
    {
      "cell_type": "code",
      "source": [
        "from sklearn.metrics import mean_absolute_error\n",
        "from sklearn.metrics import mean_squared_error\n",
        "from sklearn.metrics import mean_absolute_percentage_error\n",
        "from sklearn.metrics import r2_score"
      ],
      "metadata": {
        "id": "8K1zhnU5jhUN"
      },
      "execution_count": 35,
      "outputs": []
    },
    {
      "cell_type": "code",
      "source": [
        "tree = DecisionTreeRegressor(random_state = 2022)\n",
        "rf = RandomForestRegressor(random_state = 2022)\n",
        "xgb = XGBRegressor(random_state = 2022)\n",
        "\n",
        "models = [tree, rf, xgb]\n",
        "\n",
        "rmse = []\n",
        "mae = []\n",
        "mape = []\n",
        "\n",
        "for model in models:\n",
        "  model.fit(X_trainval_prep, y_trainval)\n",
        "  y_pred = model.predict(X_test_prep)\n",
        "\n",
        "  rmse.append(np.sqrt(mean_squared_error(y_test, y_pred)))\n",
        "  mae.append(mean_absolute_error(y_test, y_pred))\n",
        "  mape.append(mean_absolute_percentage_error(y_test, y_pred))\n",
        "\n",
        "score = pd.DataFrame({\n",
        "    \"RMSE\" : rmse,\n",
        "    \"MAE\" : mae,\n",
        "    \"MAPE\" : mape\n",
        "}, index = [\"Tree\", \"RandomForest\", \"XGBoost\"])"
      ],
      "metadata": {
        "colab": {
          "base_uri": "https://localhost:8080/"
        },
        "id": "C2m55hXNhQqM",
        "outputId": "da789e6c-6e33-433f-8e19-04c2be3a3557"
      },
      "execution_count": 36,
      "outputs": [
        {
          "output_type": "stream",
          "name": "stdout",
          "text": [
            "[15:24:00] WARNING: /workspace/src/objective/regression_obj.cu:152: reg:linear is now deprecated in favor of reg:squarederror.\n"
          ]
        }
      ]
    },
    {
      "cell_type": "code",
      "source": [
        "score"
      ],
      "metadata": {
        "colab": {
          "base_uri": "https://localhost:8080/",
          "height": 143
        },
        "id": "Ig-HeDOekZ0D",
        "outputId": "5fc6508d-6528-4ed4-88a9-71f8eea94773"
      },
      "execution_count": 37,
      "outputs": [
        {
          "output_type": "execute_result",
          "data": {
            "text/plain": [
              "                  RMSE       MAE      MAPE\n",
              "Tree          0.114022  0.085184  0.016266\n",
              "RandomForest  0.110975  0.084127  0.016050\n",
              "XGBoost       0.108670  0.084227  0.016039"
            ],
            "text/html": [
              "\n",
              "  <div id=\"df-32748dcf-fe3c-4e4e-8a51-64ad3c728db6\">\n",
              "    <div class=\"colab-df-container\">\n",
              "      <div>\n",
              "<style scoped>\n",
              "    .dataframe tbody tr th:only-of-type {\n",
              "        vertical-align: middle;\n",
              "    }\n",
              "\n",
              "    .dataframe tbody tr th {\n",
              "        vertical-align: top;\n",
              "    }\n",
              "\n",
              "    .dataframe thead th {\n",
              "        text-align: right;\n",
              "    }\n",
              "</style>\n",
              "<table border=\"1\" class=\"dataframe\">\n",
              "  <thead>\n",
              "    <tr style=\"text-align: right;\">\n",
              "      <th></th>\n",
              "      <th>RMSE</th>\n",
              "      <th>MAE</th>\n",
              "      <th>MAPE</th>\n",
              "    </tr>\n",
              "  </thead>\n",
              "  <tbody>\n",
              "    <tr>\n",
              "      <th>Tree</th>\n",
              "      <td>0.114022</td>\n",
              "      <td>0.085184</td>\n",
              "      <td>0.016266</td>\n",
              "    </tr>\n",
              "    <tr>\n",
              "      <th>RandomForest</th>\n",
              "      <td>0.110975</td>\n",
              "      <td>0.084127</td>\n",
              "      <td>0.016050</td>\n",
              "    </tr>\n",
              "    <tr>\n",
              "      <th>XGBoost</th>\n",
              "      <td>0.108670</td>\n",
              "      <td>0.084227</td>\n",
              "      <td>0.016039</td>\n",
              "    </tr>\n",
              "  </tbody>\n",
              "</table>\n",
              "</div>\n",
              "      <button class=\"colab-df-convert\" onclick=\"convertToInteractive('df-32748dcf-fe3c-4e4e-8a51-64ad3c728db6')\"\n",
              "              title=\"Convert this dataframe to an interactive table.\"\n",
              "              style=\"display:none;\">\n",
              "        \n",
              "  <svg xmlns=\"http://www.w3.org/2000/svg\" height=\"24px\"viewBox=\"0 0 24 24\"\n",
              "       width=\"24px\">\n",
              "    <path d=\"M0 0h24v24H0V0z\" fill=\"none\"/>\n",
              "    <path d=\"M18.56 5.44l.94 2.06.94-2.06 2.06-.94-2.06-.94-.94-2.06-.94 2.06-2.06.94zm-11 1L8.5 8.5l.94-2.06 2.06-.94-2.06-.94L8.5 2.5l-.94 2.06-2.06.94zm10 10l.94 2.06.94-2.06 2.06-.94-2.06-.94-.94-2.06-.94 2.06-2.06.94z\"/><path d=\"M17.41 7.96l-1.37-1.37c-.4-.4-.92-.59-1.43-.59-.52 0-1.04.2-1.43.59L10.3 9.45l-7.72 7.72c-.78.78-.78 2.05 0 2.83L4 21.41c.39.39.9.59 1.41.59.51 0 1.02-.2 1.41-.59l7.78-7.78 2.81-2.81c.8-.78.8-2.07 0-2.86zM5.41 20L4 18.59l7.72-7.72 1.47 1.35L5.41 20z\"/>\n",
              "  </svg>\n",
              "      </button>\n",
              "      \n",
              "  <style>\n",
              "    .colab-df-container {\n",
              "      display:flex;\n",
              "      flex-wrap:wrap;\n",
              "      gap: 12px;\n",
              "    }\n",
              "\n",
              "    .colab-df-convert {\n",
              "      background-color: #E8F0FE;\n",
              "      border: none;\n",
              "      border-radius: 50%;\n",
              "      cursor: pointer;\n",
              "      display: none;\n",
              "      fill: #1967D2;\n",
              "      height: 32px;\n",
              "      padding: 0 0 0 0;\n",
              "      width: 32px;\n",
              "    }\n",
              "\n",
              "    .colab-df-convert:hover {\n",
              "      background-color: #E2EBFA;\n",
              "      box-shadow: 0px 1px 2px rgba(60, 64, 67, 0.3), 0px 1px 3px 1px rgba(60, 64, 67, 0.15);\n",
              "      fill: #174EA6;\n",
              "    }\n",
              "\n",
              "    [theme=dark] .colab-df-convert {\n",
              "      background-color: #3B4455;\n",
              "      fill: #D2E3FC;\n",
              "    }\n",
              "\n",
              "    [theme=dark] .colab-df-convert:hover {\n",
              "      background-color: #434B5C;\n",
              "      box-shadow: 0px 1px 3px 1px rgba(0, 0, 0, 0.15);\n",
              "      filter: drop-shadow(0px 1px 2px rgba(0, 0, 0, 0.3));\n",
              "      fill: #FFFFFF;\n",
              "    }\n",
              "  </style>\n",
              "\n",
              "      <script>\n",
              "        const buttonEl =\n",
              "          document.querySelector('#df-32748dcf-fe3c-4e4e-8a51-64ad3c728db6 button.colab-df-convert');\n",
              "        buttonEl.style.display =\n",
              "          google.colab.kernel.accessAllowed ? 'block' : 'none';\n",
              "\n",
              "        async function convertToInteractive(key) {\n",
              "          const element = document.querySelector('#df-32748dcf-fe3c-4e4e-8a51-64ad3c728db6');\n",
              "          const dataTable =\n",
              "            await google.colab.kernel.invokeFunction('convertToInteractive',\n",
              "                                                     [key], {});\n",
              "          if (!dataTable) return;\n",
              "\n",
              "          const docLinkHtml = 'Like what you see? Visit the ' +\n",
              "            '<a target=\"_blank\" href=https://colab.research.google.com/notebooks/data_table.ipynb>data table notebook</a>'\n",
              "            + ' to learn more about interactive tables.';\n",
              "          element.innerHTML = '';\n",
              "          dataTable['output_type'] = 'display_data';\n",
              "          await google.colab.output.renderOutput(dataTable, element);\n",
              "          const docLink = document.createElement('div');\n",
              "          docLink.innerHTML = docLinkHtml;\n",
              "          element.appendChild(docLink);\n",
              "        }\n",
              "      </script>\n",
              "    </div>\n",
              "  </div>\n",
              "  "
            ]
          },
          "metadata": {},
          "execution_count": 37
        }
      ]
    },
    {
      "cell_type": "markdown",
      "source": [
        "Terlihat bahwa ketika dilakukan prediksi pada test set, performa RandomForest secara akumulatif lebih baik meskipun perbedaan nilainya cukup kecil. Hal ini berlaku untuk semua metrics (RMSE, MAE, MAPE)"
      ],
      "metadata": {
        "id": "nPdbbfPmkrLf"
      }
    },
    {
      "cell_type": "markdown",
      "source": [
        "> ## Hyperparameter Tuning"
      ],
      "metadata": {
        "id": "RGvfhqGFl5cb"
      }
    },
    {
      "cell_type": "markdown",
      "source": [
        "Karena RandomForest memiliki performa yang sedikit lebih baik, maka selanjutnya kita akan melakukan hyperparameter tuning menggunakan model ini sebagai model akhir. "
      ],
      "metadata": {
        "id": "9Fa3aRJSl76D"
      }
    },
    {
      "cell_type": "code",
      "source": [
        "x_train, x_val, y_train, y_val = train_test_split(\n",
        "    X_trainval_prep,\n",
        "    y_trainval,\n",
        "    test_size = 540,\n",
        "    random_state = 2022\n",
        ")"
      ],
      "metadata": {
        "id": "SyZRTimHoSFF"
      },
      "execution_count": 38,
      "outputs": []
    },
    {
      "cell_type": "code",
      "source": [
        "# jumlah pohon pada random forest\n",
        "n_estimators = [int(x) for x in np.linspace(start = 100, stop = 500, num = 5)]\n",
        "\n",
        "# jumlah feature untuk setiap split\n",
        "max_features = ['auto', 'sqrt']\n",
        "\n",
        "# kedalaman pohon\n",
        "max_depth = [int(x) for x in np.linspace(5, 30, num = 6)]\n",
        "\n",
        "# Minimum sample split\n",
        "min_samples_split = [2, 5, 10, 15, 100]\n",
        "\n",
        "# Minimum sample leaf\n",
        "min_samples_leaf = [1, 2, 5, 10]\n",
        "\n",
        "# Hyperparam\n",
        "random_grid = {\n",
        "    'n_estimators': n_estimators,\n",
        "    'max_features': max_features,\n",
        "    'max_depth': max_depth,\n",
        "    'min_samples_split': min_samples_split,\n",
        "    'min_samples_leaf': min_samples_leaf\n",
        "}"
      ],
      "metadata": {
        "id": "yjXion1Vfyas"
      },
      "execution_count": 39,
      "outputs": []
    },
    {
      "cell_type": "code",
      "source": [
        "crossval = KFold(n_splits = 5, shuffle = True, random_state = 2022)\n",
        "\n",
        "random_rf = RandomizedSearchCV(\n",
        "    RandomForestRegressor(), \n",
        "    param_distributions = random_grid, \n",
        "    cv = crossval, \n",
        "    n_iter = 50,\n",
        "    n_jobs = -1\n",
        ")"
      ],
      "metadata": {
        "id": "G6wDDABrnN4z"
      },
      "execution_count": 40,
      "outputs": []
    },
    {
      "cell_type": "code",
      "source": [
        "# Fitting Data untuk mencari score terbaik\n",
        "random_rf.fit(x_train, y_train)\n",
        "\n",
        "# Cek skor dan params terbaik\n",
        "print('Random Forest')\n",
        "print('Best_score:', random_rf.best_score_)\n",
        "print('Best_params:', random_rf.best_params_)"
      ],
      "metadata": {
        "colab": {
          "base_uri": "https://localhost:8080/"
        },
        "id": "gn687NYMnsTN",
        "outputId": "98128c09-7034-4994-97f8-e1b540c768f4"
      },
      "execution_count": 41,
      "outputs": [
        {
          "output_type": "stream",
          "name": "stdout",
          "text": [
            "Random Forest\n",
            "Best_score: 0.8167062035611664\n",
            "Best_params: {'n_estimators': 400, 'min_samples_split': 2, 'min_samples_leaf': 2, 'max_features': 'sqrt', 'max_depth': 15}\n"
          ]
        }
      ]
    },
    {
      "cell_type": "code",
      "source": [
        "y_pred_val = random_rf.predict(x_val)\n",
        "\n",
        "print('tabel error randomforest : ')\n",
        "print('Mean Absolute Error      : ', mean_absolute_error(y_test, y_pred_val))\n",
        "print('Mean Squared  Error      : ', mean_squared_error(y_test, y_pred_val))\n",
        "print('Root Mean Squared  Error : ', np.sqrt(mean_squared_error(y_test, y_pred_val)))"
      ],
      "metadata": {
        "colab": {
          "base_uri": "https://localhost:8080/"
        },
        "id": "bT9DEc0qpAdL",
        "outputId": "c2e29e0d-0782-4bb0-d5b5-9be402bbbf6d"
      },
      "execution_count": 42,
      "outputs": [
        {
          "output_type": "stream",
          "name": "stdout",
          "text": [
            "tabel error randomforest : \n",
            "Mean Absolute Error      :  0.2429798817549579\n",
            "Mean Squared  Error      :  0.09417924712190917\n",
            "Root Mean Squared  Error :  0.3068863749368961\n"
          ]
        }
      ]
    },
    {
      "cell_type": "markdown",
      "source": [
        "**Prediction with Choosen Model**"
      ],
      "metadata": {
        "id": "RV1yf_guu3Dm"
      }
    },
    {
      "cell_type": "markdown",
      "source": [
        "Melakukan prediksi pada test set dengan parameter-parameter yang sudah dituning."
      ],
      "metadata": {
        "id": "l9rxI6UEvJMp"
      }
    },
    {
      "cell_type": "code",
      "source": [
        "# model dengan hyperparameter terbaik\n",
        "rf_tuned = random_rf.best_estimator_\n",
        "\n",
        "# fiting model\n",
        "rf_tuned.fit(x_train, y_train)\n",
        "\n",
        "# Predict\n",
        "y_pred_tuned = rf_tuned.predict(X_test_prep)\n",
        "\n",
        "print('tabel error randomforest tuned : ')\n",
        "print('Mean Absolute Error      : ', mean_absolute_error(y_test, y_pred_tuned))\n",
        "print('Mean Squared  Error      : ', mean_squared_error(y_test, y_pred_tuned))\n",
        "print('Root Mean Squared  Error : ', np.sqrt(mean_squared_error(y_test, y_pred_tuned)))"
      ],
      "metadata": {
        "colab": {
          "base_uri": "https://localhost:8080/"
        },
        "id": "JZJjCULLqudI",
        "outputId": "9753e49a-a811-4267-85e3-5378c8a31427"
      },
      "execution_count": 43,
      "outputs": [
        {
          "output_type": "stream",
          "name": "stdout",
          "text": [
            "tabel error randomforest tuned : \n",
            "Mean Absolute Error      :  0.08568088449754109\n",
            "Mean Squared  Error      :  0.012040840209825415\n",
            "Root Mean Squared  Error :  0.10973076236783108\n"
          ]
        }
      ]
    },
    {
      "cell_type": "markdown",
      "source": [
        "**Performance Comparison**"
      ],
      "metadata": {
        "id": "bIaKUXSpxNF_"
      }
    },
    {
      "cell_type": "code",
      "source": [
        "# sebelum tuning\n",
        "rf.fit(x_train, y_train)\n",
        "y_pred_before = rf.predict(X_test_prep)\n",
        "\n",
        "print('tabel error randomforest sebelum tuning : ')\n",
        "print('Mean Absolute Error      : ', mean_absolute_error(y_test, y_pred_before))\n",
        "print('Mean Squared  Error      : ', mean_squared_error(y_test, y_pred_before))\n",
        "print('Root Mean Squared  Error : ', np.sqrt(mean_squared_error(y_test, y_pred_before)))\n",
        "print('Mean Absolute Percentage Error : ', mean_absolute_percentage_error(y_test, y_pred_before))\n",
        "\n",
        "print()\n",
        "\n",
        "print('tabel error randomforest sesudah tuning : ')\n",
        "print('Mean Absolute Error      : ', mean_absolute_error(y_test, y_pred_tuned))\n",
        "print('Mean Squared  Error      : ', mean_squared_error(y_test, y_pred_tuned))\n",
        "print('Root Mean Squared  Error : ', np.sqrt(mean_squared_error(y_test, y_pred_tuned)))\n",
        "print('Mean Absolute Percentage Error : ', mean_absolute_percentage_error(y_test, y_pred_tuned))"
      ],
      "metadata": {
        "colab": {
          "base_uri": "https://localhost:8080/"
        },
        "id": "S_rxPzZPvqp1",
        "outputId": "b330d413-ab6d-4ed1-fe4a-21c1ae30e36e"
      },
      "execution_count": 54,
      "outputs": [
        {
          "output_type": "stream",
          "name": "stdout",
          "text": [
            "tabel error randomforest sebelum tuning : \n",
            "Mean Absolute Error      :  0.08559355205776496\n",
            "Mean Squared  Error      :  0.013008217530858342\n",
            "Root Mean Squared  Error :  0.11405357307361459\n",
            "Mean Absolute Percentage Error :  0.016300784313787474\n",
            "\n",
            "tabel error randomforest sesudah tuning : \n",
            "Mean Absolute Error      :  0.08568088449754109\n",
            "Mean Squared  Error      :  0.012040840209825415\n",
            "Root Mean Squared  Error :  0.10973076236783108\n",
            "Mean Absolute Percentage Error :  0.016350505523566823\n"
          ]
        }
      ]
    },
    {
      "cell_type": "code",
      "source": [
        "sns.scatterplot(x = y_test, y = y_pred_tuned)\n",
        "plt.xlabel(\"Actual Price\")\n",
        "plt.ylabel(\"Predicted Price\")"
      ],
      "metadata": {
        "colab": {
          "base_uri": "https://localhost:8080/",
          "height": 297
        },
        "id": "Lp7xVTSEyTFw",
        "outputId": "bd88aef0-ddcd-49b3-a0a8-0b3916dbda4c"
      },
      "execution_count": 45,
      "outputs": [
        {
          "output_type": "execute_result",
          "data": {
            "text/plain": [
              "Text(0, 0.5, 'Predicted Price')"
            ]
          },
          "metadata": {},
          "execution_count": 45
        },
        {
          "output_type": "display_data",
          "data": {
            "text/plain": [
              "<Figure size 432x288 with 1 Axes>"
            ],
            "image/png": "[encoded data removed]"
          },
          "metadata": {
            "needs_background": "light"
          }
        }
      ]
    },
    {
      "cell_type": "markdown",
      "source": [
        "**Feature Importance**"
      ],
      "metadata": {
        "id": "lpgstN085J2o"
      }
    },
    {
      "cell_type": "code",
      "source": [
        "# Plot feature importances\n",
        "feature_imp = pd.Series(rf_tuned.feature_importances_, col).sort_values(ascending = False).head()\n",
        "feature_imp.plot(kind='barh', title='Feature Importances');"
      ],
      "metadata": {
        "colab": {
          "base_uri": "https://localhost:8080/",
          "height": 281
        },
        "id": "ipYH8KYxzpqh",
        "outputId": "c051a991-b026-4971-a75b-df86c0ccb8d4"
      },
      "execution_count": 51,
      "outputs": [
        {
          "output_type": "display_data",
          "data": {
            "text/plain": [
              "<Figure size 432x288 with 1 Axes>"
            ],
            "image/png": "[encoded data removed]"
          },
          "metadata": {
            "needs_background": "light"
          }
        }
      ]
    },
    {
      "cell_type": "markdown",
      "source": [
        "> # Conclusion"
      ],
      "metadata": {
        "id": "Ph8qwxtT6P6K"
      }
    },
    {
      "cell_type": "markdown",
      "source": [
        "Berdasarkan permodelan yang sudah dilakukan, ukuran luas apartement dan tipe lorong nya menjadi fitur yang paling berpengaruh dalam penentuan harga apartement.\n",
        "\n",
        "Jika ditinjau dari besar nya MAPE(Mean Absolute Percentage Error) yaitu ~1.6%, kita dapat menyimpulkan bahwa model yang kita buat ketika memprediksi harga untuk data baru dengan catatan rentang nilainya sama dengan nilai data training, maka perkiraan rata-rata akan meleset kurang lebih sebesar 1.6% dari harga seharusnya."
      ],
      "metadata": {
        "id": "P-95kpLC6SrI"
      }
    },
    {
      "cell_type": "code",
      "source": [],
      "metadata": {
        "id": "MTQSKa8n5q4d"
      },
      "execution_count": null,
      "outputs": []
    }
  ]
}